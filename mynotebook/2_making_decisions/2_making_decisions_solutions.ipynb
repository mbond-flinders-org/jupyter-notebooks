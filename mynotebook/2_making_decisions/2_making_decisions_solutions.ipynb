{
 "cells": [
  {
   "cell_type": "markdown",
   "id": "3edcee4c",
   "metadata": {},
   "source": [
    "# Making decisions - solutions to exercises"
   ]
  },
  {
   "cell_type": "markdown",
   "id": "53074127",
   "metadata": {
    "toc": true
   },
   "source": [
    "<h1>Table of Contents<span class=\"tocSkip\"></span></h1>\n",
    "<div class=\"toc\"><ul class=\"toc-item\"><li><span><a href=\"#Making-decisions---solutions-to-exercises\" data-toc-modified-id=\"Making-decisions---solutions-to-exercises-2\"><span class=\"toc-item-num\">2&nbsp;&nbsp;</span>Making decisions - solutions to exercises</a></span><ul class=\"toc-item\"><li><span><a href=\"#Calculate-Body-Mass-Index-(BMI)\" data-toc-modified-id=\"Calculate-Body-Mass-Index-(BMI)-2.1\"><span class=\"toc-item-num\">2.1&nbsp;&nbsp;</span>Calculate Body Mass Index (BMI)</a></span></li><li><span><a href=\"#How-many-days-in-the-month?\" data-toc-modified-id=\"How-many-days-in-the-month?-2.2\"><span class=\"toc-item-num\">2.2&nbsp;&nbsp;</span>How many days in the month?</a></span></li><li><span><a href=\"#Is-it-the-snake-year,-or-the-dragon-one?\" data-toc-modified-id=\"Is-it-the-snake-year,-or-the-dragon-one?-2.3\"><span class=\"toc-item-num\">2.3&nbsp;&nbsp;</span>Is it the snake year, or the dragon one?</a></span></li></ul></li></ul></div>"
   ]
  },
  {
   "cell_type": "markdown",
   "id": "e807e33e",
   "metadata": {},
   "source": [
    "## Calculate Body Mass Index (BMI)"
   ]
  },
  {
   "cell_type": "markdown",
   "id": "d37ac716",
   "metadata": {},
   "source": [
    "Write a Python function named `find_BMI` to calculate body mass index and display the grade from the following grades:<BR>\n",
    "    \n",
    ">Underweight:  BMI < 18.5 <br>\n",
    "Normal weight:  18.5 <= BMI < 25.0 <br>\n",
    "Overweight:  25.0 <= BMI < 30.0 <br>\n",
    "Obesity (class 1): 30.0 <= BMI < 35<br>\n",
    "Obesity (class 2): 35.0 <= BMI<br> \n",
    "    \n",
    "Where weight is taken in kilograms and height in meters.\n",
    "BMI is calculated as your weight W (in kilograms) divided by the square of your height H (in metres) or <br>\n",
    "\n",
    "$$\n",
    "    BMI = \\frac{W}{H^2}.\n",
    "$$    \n",
    "    "
   ]
  },
  {
   "cell_type": "code",
   "execution_count": 1,
   "id": "b5599ecf",
   "metadata": {},
   "outputs": [],
   "source": [
    "def find_BMI(weight, height):\n",
    "    #calculate the BMI (assuming weight is in kg and height in meters)\n",
    "    BMI = weight / (height)**2\n",
    "    \n",
    "    if BMI < 18.5:\n",
    "        print(\"You are underweight. Your BMI is %.2f\" %BMI)\n",
    "    elif BMI < 25.0:\n",
    "        print(\"You are healthy.Your BMI is %.2f\" %BMI)\n",
    "    elif BMI < 30.0:\n",
    "        print(\"You are over weight. Your BMI is %.2f\" %BMI)\n",
    "    elif BMI < 35:\n",
    "        print(\"You are severely over weight.Your BMI is %.2f\" %BMI)\n",
    "    else:\n",
    "        print(\"You are severely obese. Your BMI is %.2f\" %BMI)\n",
    "    "
   ]
  },
  {
   "cell_type": "code",
   "execution_count": 2,
   "id": "10aedecf",
   "metadata": {},
   "outputs": [
    {
     "name": "stdout",
     "output_type": "stream",
     "text": [
      "You are over weight. Your BMI is 25.18\n"
     ]
    }
   ],
   "source": [
    "find_BMI(78,1.76)"
   ]
  },
  {
   "cell_type": "markdown",
   "id": "97f26a14",
   "metadata": {},
   "source": [
    "## How many days in the month?\n",
    "\n",
    "As we know a month may have as few as 28 days, and as many as 31. Write a function named `days` that takes month name, as a parameter, and prints out the number of days in that month. For February, display \"28 or 29 days\", so that leap year is included."
   ]
  },
  {
   "cell_type": "code",
   "execution_count": 3,
   "id": "493835ff",
   "metadata": {},
   "outputs": [],
   "source": [
    "def days(month, leap_year):\n",
    "    #set it to 31 unless stated otherwise (as per below)\n",
    "    days = 31\n",
    "\n",
    "    #find out the number of days\n",
    "    #note that number of days may be handled as an integer or as a string (whatever is needed/convenient)\n",
    "\n",
    "    if month == 'April' or month == 'June' or month == 'September' or month == 'November':\n",
    "        days = 30\n",
    "    elif month == 'February': \n",
    "        if leap_year: days = '29' \n",
    "        else: days = '29' \n",
    "\n",
    "    # Display the result\n",
    "    print(month, 'has', days, 'days in it.')"
   ]
  },
  {
   "cell_type": "code",
   "execution_count": 4,
   "id": "c812353d",
   "metadata": {},
   "outputs": [
    {
     "name": "stdout",
     "output_type": "stream",
     "text": [
      "February has 29 days in it.\n"
     ]
    }
   ],
   "source": [
    "days('February', True)"
   ]
  },
  {
   "cell_type": "markdown",
   "id": "8829ff03",
   "metadata": {},
   "source": [
    "## Is it the snake year, or the dragon one?\n",
    "\n",
    "The Chinese zodiac matches animals with years in a 12 year cycle. One such cycle is shown in the table below.\n",
    "\n",
    "<img src=\"./images/zodiac_china.png\" width=\"14%\"/>\n",
    "\n",
    "The pattern repeats, and so 2012 was again year of the dragon, then 2013 being the year of the snake etc. Write a function that reads the year from the user (or takes it as a parameter, whatever you prefer) and displays the animal associated with that year. What year would be 2050 or 2099?  "
   ]
  },
  {
   "cell_type": "code",
   "execution_count": 5,
   "id": "2b9a63f0",
   "metadata": {},
   "outputs": [],
   "source": [
    "def zodiac():\n",
    "    # Read a year from the user\n",
    "    year = int(input(\"Enter a year: \"))\n",
    "    \n",
    "    # Determine the animal associated with provided year\n",
    "    if year % 12 == 8: animal = \"Dragon\"\n",
    "    elif year % 12 == 9: animal = \"Snake\"\n",
    "    elif year % 12 == 10: animal = \"Horse\"\n",
    "    elif year % 12 == 11: animal = \"Sheep\"\n",
    "    elif year % 12 == 0: animal = \"Monkey\"\n",
    "    elif year % 12 == 1: animal = \"Rooster\"\n",
    "    elif year % 12 == 2: animal = \"Dog\"\n",
    "    elif year % 12 == 3: animal = \"Pig\"\n",
    "    elif year % 12 == 4: animal = \"Rat\"\n",
    "    elif year % 12 == 5: animal = \"Ox\"\n",
    "    elif year % 12 == 6: animal = \"Tiger\"\n",
    "    elif year % 12 == 7: animal = \"Hare\"\n",
    "    \n",
    "    # Report the result\n",
    "    print(\"%d is the year of the %s.\" % (year, animal))\n",
    "    "
   ]
  },
  {
   "cell_type": "code",
   "execution_count": 6,
   "id": "01e08101",
   "metadata": {},
   "outputs": [
    {
     "name": "stdin",
     "output_type": "stream",
     "text": [
      "Enter a year:  1987\n"
     ]
    },
    {
     "name": "stdout",
     "output_type": "stream",
     "text": [
      "1987 is the year of the Hare.\n"
     ]
    }
   ],
   "source": [
    "zodiac()"
   ]
  },
  {
   "cell_type": "code",
   "execution_count": 7,
   "id": "34d24118",
   "metadata": {},
   "outputs": [
    {
     "name": "stdin",
     "output_type": "stream",
     "text": [
      "Enter a year:  2008\n"
     ]
    },
    {
     "name": "stdout",
     "output_type": "stream",
     "text": [
      "2008 is the year of the Rat.\n"
     ]
    }
   ],
   "source": [
    "zodiac()"
   ]
  }
 ],
 "metadata": {
  "celltoolbar": "Raw Cell Format",
  "hide_input": false,
  "kernelspec": {
   "display_name": "Python 3 (ipykernel)",
   "language": "python",
   "name": "python3"
  },
  "language_info": {
   "codemirror_mode": {
    "name": "ipython",
    "version": 3
   },
   "file_extension": ".py",
   "mimetype": "text/x-python",
   "name": "python",
   "nbconvert_exporter": "python",
   "pygments_lexer": "ipython3",
   "version": "3.11.5"
  },
  "latex_envs": {
   "LaTeX_envs_menu_present": true,
   "autoclose": false,
   "autocomplete": true,
   "bibliofile": "biblio.bib",
   "cite_by": "apalike",
   "current_citInitial": 1,
   "eqLabelWithNumbers": false,
   "eqNumInitial": 1,
   "hotkeys": {
    "equation": "Ctrl-E",
    "itemize": "Ctrl-I"
   },
   "labels_anchors": false,
   "latex_user_defs": false,
   "report_style_numbering": false,
   "user_envs_cfg": false
  },
  "toc": {
   "base_numbering": 2,
   "nav_menu": {},
   "number_sections": true,
   "sideBar": true,
   "skip_h1_title": false,
   "title_cell": "Table of Contents",
   "title_sidebar": "Contents",
   "toc_cell": true,
   "toc_position": {},
   "toc_section_display": true,
   "toc_window_display": false
  }
 },
 "nbformat": 4,
 "nbformat_minor": 5
}
