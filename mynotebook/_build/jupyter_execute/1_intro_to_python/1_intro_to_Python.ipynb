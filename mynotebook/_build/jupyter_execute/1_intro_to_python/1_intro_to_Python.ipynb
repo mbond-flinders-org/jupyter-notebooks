{
 "cells": [
  {
   "cell_type": "markdown",
   "id": "433741bc",
   "metadata": {},
   "source": [
    "# Introducing Python"
   ]
  },
  {
   "cell_type": "markdown",
   "id": "7084daca",
   "metadata": {},
   "source": [
    "Author: $\\color{blue}{\\text{Mariusz Bajger, Flinders University}}$<br>\n",
    "Topic: $\\color{blue}{\\text{ENGR1721/8800 Engineering Programming}}$\n",
    "\n",
    "Online resources: <br>\n",
    "> [Python official website](https://www.python.org/)<br>\n",
    "[Jupyter - a next-generation notebook interface](https://jupyter.org/)<br>\n",
    "[Python built-in functions](https://docs.python.org/3/library/functions.html)<br>\n",
    "[NumPy - Numerical Python Library](https://numpy.org/)<br>\n",
    "[math - mathematical functions library](https://docs.python.org/3/library/math.html)<br>\n",
    "\n",
    "Books: <br>\n",
    "> *A Beginners Guide to Python 3 Programming, J. Hunt, Springer, 2019.* <br>\n",
    "*Introduction to Python for Engineers and Scientists, S. Nagar, Springer, 2018.* <br>\n",
    "*The Python Workbook, B. Stephenson, 2nd ed., Springer, 2019.*<br>\n",
    "*A Primer on Scientific Programming with Python, H.P. Langtangen, 5th ed., Springer, 2016.* <br>\n",
    "*Numerical Python: Scientific Computing and Data Science Applications with\n",
    "Numpy, SciPy and Matplotlib, R. Johansson, Apress, 2019.*"
   ]
  },
  {
   "cell_type": "markdown",
   "id": "e55b244e",
   "metadata": {
    "toc": true
   },
   "source": [
    "<h1>Table of Contents<span class=\"tocSkip\"></span></h1>\n",
    "<div class=\"toc\"><ul class=\"toc-item\"><li><span><a href=\"#Introducing-Python\" data-toc-modified-id=\"Introducing-Python-1\"><span class=\"toc-item-num\">1&nbsp;&nbsp;</span>Introducing Python</a></span><ul class=\"toc-item\"><li><span><a href=\"#Displaying-messages-on-screen\" data-toc-modified-id=\"Displaying-messages-on-screen-1.1\"><span class=\"toc-item-num\">1.1&nbsp;&nbsp;</span>Displaying messages on screen</a></span><ul class=\"toc-item\"><li><span><a href=\"#Display-'Hello'-on-screen\" data-toc-modified-id=\"Display-'Hello'-on-screen-1.1.1\"><span class=\"toc-item-num\">1.1.1&nbsp;&nbsp;</span>Display 'Hello' on screen</a></span></li><li><span><a href=\"#Display-your-name-on-screen\" data-toc-modified-id=\"Display-your-name-on-screen-1.1.2\"><span class=\"toc-item-num\">1.1.2&nbsp;&nbsp;</span>Display your name on screen</a></span></li><li><span><a href=\"#Display-with-functions\" data-toc-modified-id=\"Display-with-functions-1.1.3\"><span class=\"toc-item-num\">1.1.3&nbsp;&nbsp;</span>Display with functions</a></span><ul class=\"toc-item\"><li><span><a href=\"#Notes\" data-toc-modified-id=\"Notes-1.1.3.1\"><span class=\"toc-item-num\">1.1.3.1&nbsp;&nbsp;</span>Notes</a></span></li></ul></li><li><span><a href=\"#Write-a-function-to-display-your-name-and-surname-on-screen\" data-toc-modified-id=\"Write-a-function-to-display-your-name-and-surname-on-screen-1.1.4\"><span class=\"toc-item-num\">1.1.4&nbsp;&nbsp;</span>Write a function to display your name and surname on screen</a></span><ul class=\"toc-item\"><li><span><a href=\"#Notes\" data-toc-modified-id=\"Notes-1.1.4.1\"><span class=\"toc-item-num\">1.1.4.1&nbsp;&nbsp;</span>Notes</a></span></li></ul></li><li><span><a href=\"#Displaying/formatting-numbers\" data-toc-modified-id=\"Displaying/formatting-numbers-1.1.5\"><span class=\"toc-item-num\">1.1.5&nbsp;&nbsp;</span>Displaying/formatting numbers</a></span></li><li><span><a href=\"#Strings-concatenation-with-+-operator\" data-toc-modified-id=\"Strings-concatenation-with-+-operator-1.1.6\"><span class=\"toc-item-num\">1.1.6&nbsp;&nbsp;</span>Strings concatenation with <code>+</code> operator</a></span><ul class=\"toc-item\"><li><span><a href=\"#Notes\" data-toc-modified-id=\"Notes-1.1.6.1\"><span class=\"toc-item-num\">1.1.6.1&nbsp;&nbsp;</span>Notes</a></span></li></ul></li><li><span><a href=\"#More-on-return-in-functions,-assignment-statements-and-variables\" data-toc-modified-id=\"More-on-return-in-functions,-assignment-statements-and-variables-1.1.7\"><span class=\"toc-item-num\">1.1.7&nbsp;&nbsp;</span>More on <code>return</code> in functions, assignment statements and variables</a></span></li></ul></li><li><span><a href=\"#Working-with-formulas\" data-toc-modified-id=\"Working-with-formulas-1.2\"><span class=\"toc-item-num\">1.2&nbsp;&nbsp;</span>Working with formulas</a></span><ul class=\"toc-item\"><li><span><a href=\"#Wind-chill\" data-toc-modified-id=\"Wind-chill-1.2.1\"><span class=\"toc-item-num\">1.2.1&nbsp;&nbsp;</span>Wind chill</a></span><ul class=\"toc-item\"><li><span><a href=\"#Notes\" data-toc-modified-id=\"Notes-1.2.1.1\"><span class=\"toc-item-num\">1.2.1.1&nbsp;&nbsp;</span>Notes</a></span></li></ul></li><li><span><a href=\"#Heat-capacity\" data-toc-modified-id=\"Heat-capacity-1.2.2\"><span class=\"toc-item-num\">1.2.2&nbsp;&nbsp;</span>Heat capacity</a></span><ul class=\"toc-item\"><li><span><a href=\"#Notes\" data-toc-modified-id=\"Notes-1.2.2.1\"><span class=\"toc-item-num\">1.2.2.1&nbsp;&nbsp;</span>Notes</a></span></li></ul></li></ul></li><li><span><a href=\"#Using-Python-libraries:-NumPy,-math\" data-toc-modified-id=\"Using-Python-libraries:-NumPy,-math-1.3\"><span class=\"toc-item-num\">1.3&nbsp;&nbsp;</span>Using Python libraries: <code>NumPy</code>, <code>math</code></a></span><ul class=\"toc-item\"><li><span><a href=\"#Write-a-function-to-calculate-cube-of-a-random-integer-and-print-the-integer-and-its-cube-on-screen.\" data-toc-modified-id=\"Write-a-function-to-calculate-cube-of-a-random-integer-and-print-the-integer-and-its-cube-on-screen.-1.3.1\"><span class=\"toc-item-num\">1.3.1&nbsp;&nbsp;</span>Write a function to calculate cube of a random integer and print the integer and its cube on screen.</a></span><ul class=\"toc-item\"><li><span><a href=\"#Notes\" data-toc-modified-id=\"Notes-1.3.1.1\"><span class=\"toc-item-num\">1.3.1.1&nbsp;&nbsp;</span>Notes</a></span></li></ul></li></ul></li><li><span><a href=\"#Tell-me-more---potentially-boring-but-very-usefull-stuff-to-know---do-not-skip!\" data-toc-modified-id=\"Tell-me-more---potentially-boring-but-very-usefull-stuff-to-know---do-not-skip!-1.4\"><span class=\"toc-item-num\">1.4&nbsp;&nbsp;</span>Tell me more - potentially boring but very usefull stuff to know - do not skip!</a></span><ul class=\"toc-item\"><li><span><a href=\"#Algorithm-vs-computer-program\" data-toc-modified-id=\"Algorithm-vs-computer-program-1.4.1\"><span class=\"toc-item-num\">1.4.1&nbsp;&nbsp;</span>Algorithm vs computer program</a></span></li><li><span><a href=\"#Comments\" data-toc-modified-id=\"Comments-1.4.2\"><span class=\"toc-item-num\">1.4.2&nbsp;&nbsp;</span>Comments</a></span></li><li><span><a href=\"#Variables\" data-toc-modified-id=\"Variables-1.4.3\"><span class=\"toc-item-num\">1.4.3&nbsp;&nbsp;</span>Variables</a></span></li><li><span><a href=\"#Strings\" data-toc-modified-id=\"Strings-1.4.4\"><span class=\"toc-item-num\">1.4.4&nbsp;&nbsp;</span>Strings</a></span></li><li><span><a href=\"#Formatting-values\" data-toc-modified-id=\"Formatting-values-1.4.5\"><span class=\"toc-item-num\">1.4.5&nbsp;&nbsp;</span>Formatting values</a></span></li><li><span><a href=\"#Calling-functions\" data-toc-modified-id=\"Calling-functions-1.4.6\"><span class=\"toc-item-num\">1.4.6&nbsp;&nbsp;</span>Calling functions</a></span></li></ul></li><li><span><a href=\"#Exercises\" data-toc-modified-id=\"Exercises-1.5\"><span class=\"toc-item-num\">1.5&nbsp;&nbsp;</span>Exercises</a></span><ul class=\"toc-item\"><li><span><a href=\"#Printing-on-screen\" data-toc-modified-id=\"Printing-on-screen-1.5.1\"><span class=\"toc-item-num\">1.5.1&nbsp;&nbsp;</span>Printing on screen</a></span><ul class=\"toc-item\"><li><span><a href=\"#Adding-flexibility\" data-toc-modified-id=\"Adding-flexibility-1.5.1.1\"><span class=\"toc-item-num\">1.5.1.1&nbsp;&nbsp;</span>Adding flexibility</a></span></li></ul></li><li><span><a href=\"#Finding-the-area-of-a-rectangle\" data-toc-modified-id=\"Finding-the-area-of-a-rectangle-1.5.2\"><span class=\"toc-item-num\">1.5.2&nbsp;&nbsp;</span>Finding the area of a rectangle</a></span><ul class=\"toc-item\"><li><span><a href=\"#Adding-more-flexibility\" data-toc-modified-id=\"Adding-more-flexibility-1.5.2.1\"><span class=\"toc-item-num\">1.5.2.1&nbsp;&nbsp;</span>Adding more flexibility</a></span></li><li><span><a href=\"#Even-more-flexibility\" data-toc-modified-id=\"Even-more-flexibility-1.5.2.2\"><span class=\"toc-item-num\">1.5.2.2&nbsp;&nbsp;</span>Even more flexibility</a></span></li></ul></li><li><span><a href=\"#Free-fall\" data-toc-modified-id=\"Free-fall-1.5.3\"><span class=\"toc-item-num\">1.5.3&nbsp;&nbsp;</span>Free fall</a></span></li><li><span><a href=\"#Basic-Arithmetic\" data-toc-modified-id=\"Basic-Arithmetic-1.5.4\"><span class=\"toc-item-num\">1.5.4&nbsp;&nbsp;</span>Basic Arithmetic</a></span></li></ul></li></ul></li></ul></div>"
   ]
  },
  {
   "cell_type": "markdown",
   "id": "41f4061a",
   "metadata": {},
   "source": [
    "Have you ever wanted to:\n",
    "\n",
    "* calculate the temperature we actually feel when the wind blows in cold weather, or \n",
    "* find the cost of boiling the water needed for your cup of morning tee/coffee, or\n",
    "* pick up relevant data from a table and draw the graph to quickly discover trends/patterns in the data, or \n",
    "* select a number randomly?\n",
    "\n",
    "If you said yes to any of the above, you will be pleased to find the answers below (and much more ...), thanks to Python!"
   ]
  },
  {
   "cell_type": "markdown",
   "id": "9162ada7",
   "metadata": {},
   "source": [
    "## Displaying messages on screen"
   ]
  },
  {
   "cell_type": "markdown",
   "id": "eee94546",
   "metadata": {},
   "source": [
    "### Display 'Hello' on screen"
   ]
  },
  {
   "cell_type": "code",
   "execution_count": 1,
   "id": "55801a39",
   "metadata": {},
   "outputs": [
    {
     "name": "stdout",
     "output_type": "stream",
     "text": [
      "Hello\n"
     ]
    }
   ],
   "source": [
    "# display a word on screen\n",
    "print('Hello')"
   ]
  },
  {
   "cell_type": "markdown",
   "id": "22a475f7",
   "metadata": {},
   "source": [
    "* `print` is a built-in Python function (`function` is a named piece of code performing a specific task, for example displaying words on screen).\n",
    "* `#` in front of a line indicates a comment; comments are ignored by Python, they provide optional information helping us to understand the code."
   ]
  },
  {
   "cell_type": "markdown",
   "id": "62b42b85",
   "metadata": {},
   "source": [
    "### Display your name on screen"
   ]
  },
  {
   "cell_type": "code",
   "execution_count": 2,
   "id": "b76a361e",
   "metadata": {},
   "outputs": [
    {
     "name": "stdout",
     "output_type": "stream",
     "text": [
      "Jessica Smith\n"
     ]
    }
   ],
   "source": [
    "# replace by your name\n",
    "print('Jessica Smith')"
   ]
  },
  {
   "cell_type": "markdown",
   "id": "8c07b867",
   "metadata": {},
   "source": [
    "### Display with functions"
   ]
  },
  {
   "cell_type": "markdown",
   "id": "bae771a2",
   "metadata": {},
   "source": [
    "Now, let us define our own function named `welcome_msg` to display messages on screen (note the special keyword `def` and the indent in the function body)."
   ]
  },
  {
   "cell_type": "code",
   "execution_count": 3,
   "id": "85e6a136",
   "metadata": {},
   "outputs": [],
   "source": [
    "def welcome_msg(name):\n",
    "    print('Hello, %s' %name) "
   ]
  },
  {
   "cell_type": "markdown",
   "id": "7885e05c",
   "metadata": {},
   "source": [
    "We can call the newly defined function by its name (you must always invoke/call the function to make it working)."
   ]
  },
  {
   "cell_type": "code",
   "execution_count": 4,
   "id": "bdb42021",
   "metadata": {},
   "outputs": [
    {
     "name": "stdout",
     "output_type": "stream",
     "text": [
      "Hello, Mariusz\n"
     ]
    }
   ],
   "source": [
    "welcome_msg('Mariusz')"
   ]
  },
  {
   "cell_type": "markdown",
   "id": "23ef134a-48d8-4ca2-828e-0fb00a8e5a26",
   "metadata": {},
   "source": [
    "Your turn: call the `welcome_msg` with your own name in place of mine. Write the code below."
   ]
  },
  {
   "cell_type": "code",
   "execution_count": null,
   "id": "16363b03-58d0-4ee4-a9d8-47b084f54650",
   "metadata": {},
   "outputs": [],
   "source": []
  },
  {
   "cell_type": "markdown",
   "id": "e92e8c27",
   "metadata": {},
   "source": [
    "Let us define another function `welcome_msg_2`. (How does it differ from `welcome_msg`?)"
   ]
  },
  {
   "cell_type": "code",
   "execution_count": 5,
   "id": "9eb0f915",
   "metadata": {},
   "outputs": [],
   "source": [
    "def welcome_msg_2(name):\n",
    "    return 'Hello, %s' %name"
   ]
  },
  {
   "cell_type": "markdown",
   "id": "4e51ecda",
   "metadata": {},
   "source": [
    "and call it by name"
   ]
  },
  {
   "cell_type": "code",
   "execution_count": 6,
   "id": "6f0df062",
   "metadata": {},
   "outputs": [
    {
     "data": {
      "text/plain": [
       "'Hello, Mariusz'"
      ]
     },
     "execution_count": 6,
     "metadata": {},
     "output_type": "execute_result"
    }
   ],
   "source": [
    "welcome_msg_2('Mariusz')"
   ]
  },
  {
   "cell_type": "markdown",
   "id": "35f4534e-9cbb-45ac-81ac-8ce655aa0214",
   "metadata": {},
   "source": [
    "Both calls result in a message being printed on screen but in a slightly different way - can you spot the difference?"
   ]
  },
  {
   "cell_type": "markdown",
   "id": "e1cf7999",
   "metadata": {},
   "source": [
    "There is quite a bit to explain here! Read the notes below very carefully, looking at the relevant code above. Notes will always be provided to clarify new concepts in notebooks.\n",
    "\n",
    ">**It is vital for your progress to practice writing code and study systematically. You will not be able to fully understand the material if you skip sections.**"
   ]
  },
  {
   "cell_type": "markdown",
   "id": "f0bacbd2-ac4e-435a-bad2-23d83b56509a",
   "metadata": {},
   "source": [
    "####  Notes\n",
    "* Note the `return` statement included in `welcome_msg_2` but not in `welcome_msg`.\n",
    "* By using `return` we keep the 'returned thing' - the message here - in memory, for subsequent use; otherwise once displayed the message woud be gone.\n",
    "* `def` and `return` are special words - Python language <em>keywords</em> (therefore they cannot be reused freely, for example, as your own function names).\n",
    "* `return` concludes/ends the function (all lines in the function body placed after `return` would be ignored by Python) but as you can see it is not necessary to include `return` in every function (`welcome_msg` has no `return`)\n",
    "* Note the indents in code!\n",
    "* **Indents, usually 4 spaces, are critical in Python programs and have to be used consistently**.\n",
    "* Always give your function a meaningful name (indicative of the function purpose).\n",
    "* Call your function by its name.\n",
    "* If additional information is needed for the function to perform its task, like a value  for `name`, we provide it using parentheses.\n",
    "* Those values inside the parentheses, provided each time the function is called, are called <em>arguments</em>,\n",
    "and the `name` in the function definition (which is a placeholder for an argument), is called a <em>parameter</em>\n",
    ">parameter - refers to function definition <br>\n",
    "argument - refers to function call\n",
    "\n",
    "* Parameters are useful when your function needs additional data to perform its task (because they add flexibility to your implementation; you do not neeed to decide immediately - when the function id defined - what argument the function may use later for `name`, it will be sorted out \n",
    "when someone calls that function).\n",
    "* The `%` operator allows you to control the output format, here indicated by `s`, for the value of `name` which is a `string`, hence `s` letter.\n",
    "* In `Hello, %s' %name`, the value in `name` is subsituted in `%s`; it must be a string, because `s` stands for a string type.\n",
    "* A `string` object is simply a sequence of characters in single or double quotes, e.g. `'Hi123'` or `\"@3f9el\"`.\n",
    "* Note that when you use `return` Jupyter displays the output on screen as a string, using single quotes to indicate string type.\n",
    "* You may use single or double quotes for strings, whatever you prefer, they are equivalent (interchangeable).\n",
    "It is a useful convention when you need a string inside of a string - use single quotes for one and double quotes\n",
    "for the other.\n",
    "* As you can see functions may call other functions, `welcome_msg` calls the built-in function `print` when it executes.\n",
    "* Lines starting with `#` are comments and are ignored by Python interpreter; they are just for program explanation, helping us (or other people) to understand the code."
   ]
  },
  {
   "cell_type": "markdown",
   "id": "42455a55",
   "metadata": {},
   "source": [
    "### Write a function to display your name and surname on screen\n",
    "You may use `return` or not."
   ]
  },
  {
   "cell_type": "code",
   "execution_count": 7,
   "id": "822945fe",
   "metadata": {},
   "outputs": [],
   "source": [
    "def welcome_msg_3(name, surname):\n",
    "    return 'Hello, %s %s!' %(name,surname)"
   ]
  },
  {
   "cell_type": "code",
   "execution_count": 8,
   "id": "0f5b5cfc",
   "metadata": {},
   "outputs": [
    {
     "data": {
      "text/plain": [
       "'Hello, Mariusz Bajger!'"
      ]
     },
     "execution_count": 8,
     "metadata": {},
     "output_type": "execute_result"
    }
   ],
   "source": [
    "welcome_msg_3('Mariusz','Bajger')"
   ]
  },
  {
   "cell_type": "code",
   "execution_count": 9,
   "id": "ba25debe",
   "metadata": {},
   "outputs": [],
   "source": [
    "def welcome_msg_4(name, surname):\n",
    "    print('Hello, %s %s!' %(name,surname))"
   ]
  },
  {
   "cell_type": "code",
   "execution_count": 10,
   "id": "0e914000",
   "metadata": {},
   "outputs": [
    {
     "name": "stdout",
     "output_type": "stream",
     "text": [
      "Hello, Clint Eastwood!\n"
     ]
    }
   ],
   "source": [
    "welcome_msg_4('Clint', 'Eastwood')"
   ]
  },
  {
   "cell_type": "markdown",
   "id": "377f88a8",
   "metadata": {},
   "source": [
    "#### Notes\n",
    "\n",
    "* Functions `welcome_msg_3` and `welcome_msg_4` take two parameters: `name` and `surname`.\n",
    "* Any (almost, some rules apply) meaningful names composed of letters can be used as parameter names.\n",
    "* Observe how multiple values are formatted, passed to `%` operator as a single language structure called <em>tuple</em>: `%(a,b,c,d)` or `(12,13,a)` etc. (More about tuples later, stay tuned ...).\n",
    "* What if you want to display numbers? Like your age, or height or any quantity on screen in say, two decimal places?\n",
    "* Use `%d` for <em>integers</em> like 1, 2, 3 ... and their negative counterparts, and `%f` for <em>floating-point</em> numbers like 1.23, or -56.89654 etc. \n",
    "* To specify accuracy like 2 decimal digits, use `%.2f`. This will round the number to 2 decimal places. See the next task for examples."
   ]
  },
  {
   "cell_type": "markdown",
   "id": "084b1d22",
   "metadata": {},
   "source": [
    "### Displaying/formatting numbers\n",
    "\n",
    "Write a function to display on screen something like this: 'Hello, I am `your_name`, 20 years old. My weight is 76.25. I am 1.8 meters tall.' The weight value should be rounded to two decimal places and the height to 1 decimal place. Use `\\` if you need\n",
    "to skip to next line when writing your code (long lines are hard to read and should be avoided.)"
   ]
  },
  {
   "cell_type": "code",
   "execution_count": 11,
   "id": "68cd4baa",
   "metadata": {},
   "outputs": [],
   "source": [
    "def welcome_msg_5(name, age, weight, height):\n",
    "    return 'Hello, I am %s, %d years old. My weight is %.2f. \\\n",
    "I am %.1f meters tall.' %(name, age, weight, height)"
   ]
  },
  {
   "cell_type": "code",
   "execution_count": 12,
   "id": "6f78d35c",
   "metadata": {},
   "outputs": [
    {
     "data": {
      "text/plain": [
       "'Hello, I am Mandy, 22 years old. My weight is 64.33. I am 1.6 meters tall.'"
      ]
     },
     "execution_count": 12,
     "metadata": {},
     "output_type": "execute_result"
    }
   ],
   "source": [
    "welcome_msg_5('Mandy', 22, 64.325, 1.62)"
   ]
  },
  {
   "cell_type": "markdown",
   "id": "f4884949",
   "metadata": {},
   "source": [
    "### Strings concatenation with `+` operator\n",
    "\n",
    "Write a function to display a welcome message followed by greeting 'Nice to meet you.'"
   ]
  },
  {
   "cell_type": "code",
   "execution_count": 13,
   "id": "f9d7b971",
   "metadata": {},
   "outputs": [],
   "source": [
    "def update_msg(message):\n",
    "    print(message + ' Nice to meet you.')"
   ]
  },
  {
   "cell_type": "code",
   "execution_count": 14,
   "id": "41eac54d",
   "metadata": {},
   "outputs": [
    {
     "name": "stdout",
     "output_type": "stream",
     "text": [
      "Hello Joel. Nice to meet you.\n"
     ]
    }
   ],
   "source": [
    "update_msg('Hello Joel.')"
   ]
  },
  {
   "cell_type": "markdown",
   "id": "ce87fff8",
   "metadata": {},
   "source": [
    "#### Notes\n",
    "* Observe how we <em>concatenate</em> (merge) two strings together using `+` operator"
   ]
  },
  {
   "cell_type": "markdown",
   "id": "33f45b9a",
   "metadata": {},
   "source": [
    "### More on `return` in functions, assignment statements and variables\n",
    "\n",
    "You saw that Jupyter treats output from functions with no `return` different from the one produced by functions using `return` keyword (my greeting \n",
    "in `welcome_msg_4` was displayed in single quotes - as a string - but Clint Eastwood, in `welcome_msg_5`, was not). As we said, if `return` is used we can further reuse the value produced by the function in our program.\n",
    "To do so, we need two things:\n",
    "1. create the value, by calling the function by its name<br>\n",
    "2. name the value (stored in memory), so we can refer to it later.\n",
    "\n",
    "Both can be achieved in one line, using an <em>assignment</em>:"
   ]
  },
  {
   "cell_type": "code",
   "execution_count": 15,
   "id": "b6a468bf",
   "metadata": {},
   "outputs": [],
   "source": [
    "# an assignment statement (naming the value produced by the function call and stored in memory)\n",
    "msg = welcome_msg_2('Laura')"
   ]
  },
  {
   "cell_type": "markdown",
   "id": "d3ff025d",
   "metadata": {},
   "source": [
    "The meaning of an assignment is not to be confused with 'equality' which the equal sign may suggest. The assignment statement means: the value on the right hand side (which comes from the `welcome_msg_2` function when it returns) is given a label `msg` (in other words, a storage in computer memory is allocated for the newly created value that is named, for future reference, `msg`). Often, in programming, a name used to refer to something (in memory) is called `variable`. Our `msg` is a variable pointing (referring to) a string object stored in memory. "
   ]
  },
  {
   "cell_type": "markdown",
   "id": "d05f4d88",
   "metadata": {},
   "source": [
    "For curiosity, let us check the type of the returned value using the built-in `type` function in Python:"
   ]
  },
  {
   "cell_type": "code",
   "execution_count": 16,
   "id": "39c7db23",
   "metadata": {},
   "outputs": [
    {
     "data": {
      "text/plain": [
       "str"
      ]
     },
     "execution_count": 16,
     "metadata": {},
     "output_type": "execute_result"
    }
   ],
   "source": [
    "type(msg)"
   ]
  },
  {
   "cell_type": "markdown",
   "id": "18f05b0e",
   "metadata": {},
   "source": [
    "As we expected, it is a string type object which in Python corresponds to built-in type `str`"
   ]
  },
  {
   "cell_type": "markdown",
   "id": "faeeb886",
   "metadata": {},
   "source": [
    "Now, we can reuse `msg` as we wish, for example by passing it to `update_msg` function (defined above) which accepts one argument. "
   ]
  },
  {
   "cell_type": "code",
   "execution_count": 17,
   "id": "5b40922e",
   "metadata": {},
   "outputs": [
    {
     "name": "stdout",
     "output_type": "stream",
     "text": [
      "Hello, Laura Nice to meet you.\n"
     ]
    }
   ],
   "source": [
    "update_msg(msg)"
   ]
  },
  {
   "cell_type": "markdown",
   "id": "47e1028b",
   "metadata": {},
   "source": [
    "And what is the output of our `update_msg` function? Let us name it `upd_msg`"
   ]
  },
  {
   "cell_type": "code",
   "execution_count": 18,
   "id": "27695426",
   "metadata": {},
   "outputs": [
    {
     "name": "stdout",
     "output_type": "stream",
     "text": [
      "Hello, Laura Nice to meet you.\n"
     ]
    }
   ],
   "source": [
    "upd_msg = update_msg(msg)"
   ]
  },
  {
   "cell_type": "markdown",
   "id": "b79c30e6",
   "metadata": {},
   "source": [
    "Can we reuse it same way we reused `msg`? For example, let us try to pass it to the built-in function `print` to print it out:"
   ]
  },
  {
   "cell_type": "code",
   "execution_count": 19,
   "id": "697c54d4",
   "metadata": {},
   "outputs": [
    {
     "name": "stdout",
     "output_type": "stream",
     "text": [
      "None\n"
     ]
    }
   ],
   "source": [
    "print(upd_msg)"
   ]
  },
  {
   "cell_type": "markdown",
   "id": "54bd8938",
   "metadata": {},
   "source": [
    "It turns out that `upd_msg` refers to `None`. The keyword `None` in Python means 'no value', or 'null value'. <br>\n",
    "Summarizing:\n",
    "> to reuse the value produced by a function the `return` keyword must be explicitly stated in the function definition, otherwise the function returns nothing back to the program when it completes execution. That 'nothing' is indicated as `None` in Python. (`None` is another keyword, like `def` or `return`.)"
   ]
  },
  {
   "cell_type": "markdown",
   "id": "0efd7a9f",
   "metadata": {},
   "source": [
    "## Working with formulas\n",
    "\n",
    "Engineers and scientists constantly work with various formulas and calculations. Let us get started with this important \n",
    "to master task.\n",
    "\n",
    "When the wind blows in cold weather, the air feels even colder than it actually is\n",
    "because the movement of the air increases the rate of cooling for warm objects, like\n",
    "people. This effect is known as wind chill.\n",
    "Australia adopted the following\n",
    "formula for computing the wind chill index. \n",
    "\n",
    "$$\n",
    "    W_{chill} = 13.12 + 0.6215T − 11.37V^{0.16} + 0.3965TV^{0.16},\n",
    "$$\n",
    "\n",
    "where $T$ is the\n",
    "air temperature in degrees Celsius and $V$ is the wind speed in kilometers per hour.\n",
    "Let us write a program that begins by reading the air temperature and wind speed from the\n",
    "user. Once these values have been read our program should display the wind chill\n",
    "index rounded to the closest integer."
   ]
  },
  {
   "cell_type": "markdown",
   "id": "81f99697",
   "metadata": {},
   "source": [
    "### Wind chill "
   ]
  },
  {
   "cell_type": "code",
   "execution_count": 20,
   "id": "47acbef2",
   "metadata": {},
   "outputs": [],
   "source": [
    "# declare constants, as determined by scientists\n",
    "# it is customary to use capitals to indicate constants in programs, and declare them at the beginning\n",
    "C1 = 13.12\n",
    "C2 = 0.6215\n",
    "C3 = -11.37\n",
    "C4 = 0.3695\n",
    "C5 = 0.16"
   ]
  },
  {
   "cell_type": "code",
   "execution_count": 21,
   "id": "8beb8b33",
   "metadata": {},
   "outputs": [
    {
     "ename": "StdinNotImplementedError",
     "evalue": "raw_input was called, but this frontend does not support input requests.",
     "output_type": "error",
     "traceback": [
      "\u001b[0;31m---------------------------------------------------------------------------\u001b[0m",
      "\u001b[0;31mStdinNotImplementedError\u001b[0m                  Traceback (most recent call last)",
      "Cell \u001b[0;32mIn[21], line 2\u001b[0m\n\u001b[1;32m      1\u001b[0m \u001b[38;5;66;03m# read the temperature and wind speed from the user\u001b[39;00m\n\u001b[0;32m----> 2\u001b[0m temp \u001b[38;5;241m=\u001b[39m \u001b[38;5;28mfloat\u001b[39m(\u001b[38;5;28;43minput\u001b[39;49m\u001b[43m(\u001b[49m\u001b[38;5;124;43m'\u001b[39;49m\u001b[38;5;124;43mEnter air temperature: \u001b[39;49m\u001b[38;5;124;43m'\u001b[39;49m\u001b[43m)\u001b[49m)\n\u001b[1;32m      3\u001b[0m wind_speed \u001b[38;5;241m=\u001b[39m \u001b[38;5;28mfloat\u001b[39m(\u001b[38;5;28minput\u001b[39m(\u001b[38;5;124m'\u001b[39m\u001b[38;5;124mEnter wind speed: \u001b[39m\u001b[38;5;124m'\u001b[39m))\n",
      "File \u001b[0;32m~/.cache/pypoetry/virtualenvs/jupyter-notebooks-bcv3Fqos-py3.12/lib/python3.12/site-packages/ipykernel/kernelbase.py:1281\u001b[0m, in \u001b[0;36mKernel.raw_input\u001b[0;34m(self, prompt)\u001b[0m\n\u001b[1;32m   1279\u001b[0m \u001b[38;5;28;01mif\u001b[39;00m \u001b[38;5;129;01mnot\u001b[39;00m \u001b[38;5;28mself\u001b[39m\u001b[38;5;241m.\u001b[39m_allow_stdin:\n\u001b[1;32m   1280\u001b[0m     msg \u001b[38;5;241m=\u001b[39m \u001b[38;5;124m\"\u001b[39m\u001b[38;5;124mraw_input was called, but this frontend does not support input requests.\u001b[39m\u001b[38;5;124m\"\u001b[39m\n\u001b[0;32m-> 1281\u001b[0m     \u001b[38;5;28;01mraise\u001b[39;00m StdinNotImplementedError(msg)\n\u001b[1;32m   1282\u001b[0m \u001b[38;5;28;01mreturn\u001b[39;00m \u001b[38;5;28mself\u001b[39m\u001b[38;5;241m.\u001b[39m_input_request(\n\u001b[1;32m   1283\u001b[0m     \u001b[38;5;28mstr\u001b[39m(prompt),\n\u001b[1;32m   1284\u001b[0m     \u001b[38;5;28mself\u001b[39m\u001b[38;5;241m.\u001b[39m_parent_ident[\u001b[38;5;124m\"\u001b[39m\u001b[38;5;124mshell\u001b[39m\u001b[38;5;124m\"\u001b[39m],\n\u001b[1;32m   1285\u001b[0m     \u001b[38;5;28mself\u001b[39m\u001b[38;5;241m.\u001b[39mget_parent(\u001b[38;5;124m\"\u001b[39m\u001b[38;5;124mshell\u001b[39m\u001b[38;5;124m\"\u001b[39m),\n\u001b[1;32m   1286\u001b[0m     password\u001b[38;5;241m=\u001b[39m\u001b[38;5;28;01mFalse\u001b[39;00m,\n\u001b[1;32m   1287\u001b[0m )\n",
      "\u001b[0;31mStdinNotImplementedError\u001b[0m: raw_input was called, but this frontend does not support input requests."
     ]
    }
   ],
   "source": [
    "# read the temperature and wind speed from the user\n",
    "temp = float(input('Enter air temperature: '))\n",
    "wind_speed = float(input('Enter wind speed: '))"
   ]
  },
  {
   "cell_type": "code",
   "execution_count": 22,
   "id": "3ad04e0b",
   "metadata": {},
   "outputs": [],
   "source": [
    "# compute the wind chill index (this is our formula translated into Python)\n",
    "wind_chill = C1 + C2*temp + C3 * wind_speed ** C5 + C4 * temp * wind_speed ** C5"
   ]
  },
  {
   "cell_type": "code",
   "execution_count": 23,
   "id": "02448ddb",
   "metadata": {},
   "outputs": [
    {
     "name": "stdout",
     "output_type": "stream",
     "text": [
      "The wind chill index = -15.0\n"
     ]
    }
   ],
   "source": [
    "# display the result \n",
    "print('The wind chill index = %.1f' %wind_chill)"
   ]
  },
  {
   "cell_type": "markdown",
   "id": "362c11ce",
   "metadata": {},
   "source": [
    "Let us group these steps together, as a function `find_wind_chill`, for ease of use later and improved clarity of our code."
   ]
  },
  {
   "cell_type": "code",
   "execution_count": 24,
   "id": "c1dee94d",
   "metadata": {},
   "outputs": [],
   "source": [
    "def find_wind_chill():\n",
    "    C1 = 13.12\n",
    "    C2 = 0.6215\n",
    "    C3 = -11.37\n",
    "    C4 = 0.3695\n",
    "    C5 = 0.16\n",
    "    temp = float(input('Enter air temperature: '))\n",
    "    wind_speed = float(input('Enter wind speed: '))\n",
    "    wind_chill = C1 + C2*temp + C3 * wind_speed ** C5 + C4 * temp * wind_speed ** C5\n",
    "    print('The wind chill index = %.1f' %wind_chill)"
   ]
  },
  {
   "cell_type": "markdown",
   "id": "8b21c0a0",
   "metadata": {},
   "source": [
    "Now, to find the wind chill, we just need to call the function by its name:"
   ]
  },
  {
   "cell_type": "code",
   "execution_count": 25,
   "id": "47ca9071",
   "metadata": {},
   "outputs": [
    {
     "name": "stdin",
     "output_type": "stream",
     "text": [
      "Enter air temperature:  -10\n",
      "Enter wind speed:  30\n"
     ]
    },
    {
     "name": "stdout",
     "output_type": "stream",
     "text": [
      "The wind chill index = -19.1\n"
     ]
    }
   ],
   "source": [
    "find_wind_chill()"
   ]
  },
  {
   "cell_type": "markdown",
   "id": "13bd5163",
   "metadata": {},
   "source": [
    "#### Notes\n",
    "\n",
    "* Recall that not every function needs `return` statement (which one does?).\n",
    "* It makes a lot of sense to group code together as a function.\n",
    "* Functions correspond to 'actions' (displaying on screen, drawing graph, calculating things like finding wind chill).\n",
    "* `**` indicates power function, that is, `2**5` means 2 to power 5.\n",
    "* `input` is a built-in Python function allowing users to interact with the running program.\n",
    "* `float` is built-in function that converts user's input into a floating-point number (a number with decimal point).\n",
    "* It would be nice to find good names for the constants rather than `C1, C2` etc. We will have some obvious names for constants in our next example.\n",
    "* Constants are fixed values in your program; for convenience we use capitals when naming constants.\n",
    "* The wind chill formula is considered valid for temperatures not exceeding $10$ degrees Celsius and wind speed at least $5$ km per hour."
   ]
  },
  {
   "cell_type": "markdown",
   "id": "7de43ddf",
   "metadata": {},
   "source": [
    "### Heat capacity\n",
    "\n",
    "The heat capacity H of a material is the amount of energy required to increase the temperature of one gram of the material by one degree Celsius. The energy E required to raise m grams of a material by \n",
    "$\\Delta T$ degrees Celsius can be computed using the formula:\n",
    "\n",
    "$$\n",
    "E = mH\\Delta T\n",
    "$$\n",
    "\n",
    "Write a program that reads the mass of some water and the temperature change from\n",
    "the user and displays the total amount of energy that must be added\n",
    "(or removed) to achieve the desired temperature change. The heat capacity of water is \n",
    "$4.186 \\frac{J}{g^◦C}$. Because water has a\n",
    "density of $1.0$ grams per milliliter, we can use grams and milliliters interchangeably here.\n",
    "Assuming electricity costs of $42$ cents per kilowatt hour find the cost of\n",
    "boiling the water for a cup of coffee."
   ]
  },
  {
   "cell_type": "code",
   "execution_count": 26,
   "id": "e8306d86",
   "metadata": {},
   "outputs": [],
   "source": [
    "# define constants \n",
    "HIT_CAP = 4.186\n",
    "KWH_PRICE = 0.42 # dollars\n",
    "JOULE_to_KWH = 2.77e-7      #equals 2.77*10**(-7)"
   ]
  },
  {
   "cell_type": "code",
   "execution_count": 27,
   "id": "73560b16",
   "metadata": {},
   "outputs": [
    {
     "name": "stdin",
     "output_type": "stream",
     "text": [
      "Enter amount of water in mililiters:  300\n",
      "Enter temperature increase:  80\n"
     ]
    }
   ],
   "source": [
    "#get data from the user\n",
    "m = float(input('Enter amount of water in mililiters: '))\n",
    "T = float(input('Enter temperature increase: '))"
   ]
  },
  {
   "cell_type": "code",
   "execution_count": 28,
   "id": "b1383778",
   "metadata": {},
   "outputs": [],
   "source": [
    "#compute the energy in Joules\n",
    "E = m * HIT_CAP * T"
   ]
  },
  {
   "cell_type": "code",
   "execution_count": 29,
   "id": "99be4547",
   "metadata": {},
   "outputs": [
    {
     "name": "stdout",
     "output_type": "stream",
     "text": [
      "This will require 100464 Joules of energy.\n"
     ]
    }
   ],
   "source": [
    "# display the energy value\n",
    "print('This will require %d Joules of energy.' %E)"
   ]
  },
  {
   "cell_type": "code",
   "execution_count": 30,
   "id": "fa4acee5",
   "metadata": {},
   "outputs": [
    {
     "name": "stdout",
     "output_type": "stream",
     "text": [
      "The cost is: 0.01 dollars\n"
     ]
    }
   ],
   "source": [
    "#convert energy in Joules to kwh\n",
    "kwh = E * JOULE_to_KWH\n",
    "\n",
    "#find the cost\n",
    "cost = kwh * KWH_PRICE\n",
    "\n",
    "#display the cost\n",
    "print('The cost is: %.2f dollars' % cost)"
   ]
  },
  {
   "cell_type": "markdown",
   "id": "176a08af",
   "metadata": {},
   "source": [
    "If you entered $250$ mililiters and temperature increase $80$ you got the cost of heating the water for your coffee."
   ]
  },
  {
   "cell_type": "markdown",
   "id": "de1bde6b",
   "metadata": {},
   "source": [
    "#### Notes\n",
    "\n",
    "* Python allows numbers to be written in scientific notation (common in engineering calcualtions) by placing the coefficient to the left of an `e` and the exponent to its right. Thus, $270000=2.7*10^4$ can be written as `2.5e4`, while $0.000051$ can be written as `5.1e-5`.\n",
    "* The format specifier for scientific notation is `%e` or upper case `%E`\n",
    "* If you use `%g` Python will select for you `%f` or `%e`, whichever is shorter \n",
    "* Recall that `.2f` means the number printed with two decimal places"
   ]
  },
  {
   "cell_type": "markdown",
   "id": "cf440a1d",
   "metadata": {},
   "source": [
    "## Using Python libraries: `NumPy`, `math`\n",
    "\n",
    "Python programming is modular by design, that is, the complex\n",
    "tasks are divided into small modules/libraries that seamlessly interact with each\n",
    "other. Libraries make program development and debugging easier, and they\n",
    "can be simply imported to enable the use of various functions. There are more than thousand libraries included in Anaconda. We will focus on a few libraries particularly useful in engineering applications."
   ]
  },
  {
   "cell_type": "markdown",
   "id": "ec7a965e",
   "metadata": {},
   "source": [
    "Let us load one of the most useful library in Python: NumPy (Numerical Python), and name it `np`\n",
    "(shortcut is used to save on typing; almost everyone uses `np` for NumPy). Our next task illustrates its usage."
   ]
  },
  {
   "cell_type": "code",
   "execution_count": 31,
   "id": "3346f547",
   "metadata": {},
   "outputs": [],
   "source": [
    "import numpy as np"
   ]
  },
  {
   "cell_type": "markdown",
   "id": "34725999",
   "metadata": {},
   "source": [
    "### Write a function to calculate cube of a random integer and print the integer and its cube on screen."
   ]
  },
  {
   "cell_type": "code",
   "execution_count": 32,
   "id": "9cff0027",
   "metadata": {},
   "outputs": [],
   "source": [
    "# get the random integer between 1 (inclusive) and 10 (exclusive) and name it 'i'\n",
    "i = np.random.randint(1,10)"
   ]
  },
  {
   "cell_type": "code",
   "execution_count": 33,
   "id": "0c522b71",
   "metadata": {},
   "outputs": [],
   "source": [
    "def cube(x):\n",
    "    return x * x * x"
   ]
  },
  {
   "cell_type": "markdown",
   "id": "58784f68-aec2-413b-8885-69feb9d1b0c2",
   "metadata": {},
   "source": [
    "Apply the newly defined function (note that it returns a value so the assignment makes sense)"
   ]
  },
  {
   "cell_type": "code",
   "execution_count": 34,
   "id": "e02556f0",
   "metadata": {},
   "outputs": [],
   "source": [
    "y = cube(i)"
   ]
  },
  {
   "cell_type": "code",
   "execution_count": 35,
   "id": "b9bf5350",
   "metadata": {},
   "outputs": [
    {
     "name": "stdout",
     "output_type": "stream",
     "text": [
      "3 cube is 27\n"
     ]
    }
   ],
   "source": [
    "print('%d cube is %d' % (i,y))"
   ]
  },
  {
   "cell_type": "markdown",
   "id": "fb3ed262",
   "metadata": {},
   "source": [
    "#### Notes\n",
    "\n",
    "* Alternatively, we could use the power function operator `**` in the definition of `cube` function.\n",
    "* We called `randint` function defined in the module `random` in library `numpy`.\n",
    "* Observe the so called 'dot syntax' allowing us to access functions in modules (sublibraries) of a given library.\n",
    "* You may wonder whether `np` in front of NumPy library functions could be avoided. The answer is yes, but for a price. You would have to import each single function rather than the whole package at once. So, you would need to know in advance what you need.\n",
    "* It is not unusual to load several modules/libraries into the same program and as a result having the same named functions but with potentially different implementations available (for example trig functions like sine, cosine etc. are implemented both in `numpy` and `math` libraries). As you may guess it would be confusing and may lead to errors, hence placing the `np` in front of the function name, to clearly indicate the module where the function is defined, is a sensible way (therefore `np.sin` would call `sin` from `numpy` library and not the one implemented in `math` library)."
   ]
  },
  {
   "cell_type": "markdown",
   "id": "71b9543c",
   "metadata": {},
   "source": [
    "Suppose you want to find `sine` of 10. You may either use `sine` function implemented in NumPy or the one from `math`, like that"
   ]
  },
  {
   "cell_type": "code",
   "execution_count": 36,
   "id": "88d12e41",
   "metadata": {},
   "outputs": [
    {
     "name": "stdout",
     "output_type": "stream",
     "text": [
      "-0.5440211108893698\n"
     ]
    }
   ],
   "source": [
    "import numpy as np\n",
    "print(np.sin(10))"
   ]
  },
  {
   "cell_type": "code",
   "execution_count": 37,
   "id": "39a85672",
   "metadata": {},
   "outputs": [
    {
     "name": "stdout",
     "output_type": "stream",
     "text": [
      "-0.5440211108893698\n"
     ]
    }
   ],
   "source": [
    "import math\n",
    "print(math.sin(10))"
   ]
  },
  {
   "cell_type": "markdown",
   "id": "8b2cfeaa",
   "metadata": {},
   "source": [
    "It is not uncommon to find some overlap between libraries. However, each module/library is designed for different purpose.\n",
    "NumPy library implementations are optimized for computational efficiency/speed and it is therefore the preferred library when \n",
    "intensive (memory heavy) calculations are involved."
   ]
  },
  {
   "cell_type": "markdown",
   "id": "3a73c147",
   "metadata": {},
   "source": [
    "## Tell me more - potentially boring but very usefull stuff to know - do not skip!"
   ]
  },
  {
   "cell_type": "markdown",
   "id": "293bb2d1",
   "metadata": {},
   "source": [
    "### Algorithm vs computer program\n",
    "\n",
    "* An <em>algorithm</em> is a finite sequence of steps leading to a solution of a problem (like a recipe).\n",
    "* A <em>program</em> is sequence of instructions that controll computer's behaviour.\n",
    "* An algorithm must be translated into a program to use a computer to solve a problem.\n",
    "* The translation process is called <em>programming</em>.\n",
    "* Pogramming languages like Python have precise syntax rules that must be obeyed."
   ]
  },
  {
   "cell_type": "markdown",
   "id": "6cef48a8",
   "metadata": {},
   "source": [
    "### Comments\n",
    "\n",
    "* In Python the beginning of a comment is indicated by `#`.\n",
    "* Comments provide an opportunity for a programmer to explain their code.\n",
    "* The computer (Python interpreter) ignores all of the comments - they are for humans.\n",
    "* You should start your programs with comments including your name, date and the purpose of the program.\n",
    "* You should also include usefull, brief comments when completing portions of code.\n",
    "* Comments allow anyone to quickly determine what the program does."
   ]
  },
  {
   "cell_type": "markdown",
   "id": "8cac4d67",
   "metadata": {},
   "source": [
    "### Variables\n",
    "\n",
    "* Named locations in computer's memory used to store values like numbers, letters or more complex objects.\n",
    "* Variable name must begin with a letter or an underscore, followed by any combination of letters, underscores and numbers.\n",
    "* Variables are created using assignment statements; they point to/name memory locations."
   ]
  },
  {
   "cell_type": "markdown",
   "id": "92dae6fb-862d-4f02-a8cd-df799fc3a00c",
   "metadata": {},
   "source": [
    "Variable manipulations"
   ]
  },
  {
   "cell_type": "code",
   "execution_count": 38,
   "id": "99a1746a",
   "metadata": {},
   "outputs": [
    {
     "name": "stdout",
     "output_type": "stream",
     "text": [
      "12\n"
     ]
    }
   ],
   "source": [
    "# create variable x pointing to/referring to number 12 (stored somewhere in memory)\n",
    "x = 12\n",
    "print(x)"
   ]
  },
  {
   "cell_type": "markdown",
   "id": "9cc29a6d-3e34-4c33-8006-0ff85c119db8",
   "metadata": {},
   "source": [
    "Change the value under the name `x`"
   ]
  },
  {
   "cell_type": "code",
   "execution_count": 39,
   "id": "e56b3948-6806-4330-af12-d3a83cf6ae56",
   "metadata": {},
   "outputs": [
    {
     "name": "stdout",
     "output_type": "stream",
     "text": [
      "13\n"
     ]
    }
   ],
   "source": [
    "x = 13\n",
    "print(x)"
   ]
  },
  {
   "cell_type": "code",
   "execution_count": 40,
   "id": "c5beceb5-8cbb-4988-9fd3-7a40a3b03bf5",
   "metadata": {},
   "outputs": [
    {
     "name": "stdout",
     "output_type": "stream",
     "text": [
      "17\n"
     ]
    }
   ],
   "source": [
    "# use x to create another variable, say y\n",
    "y = x + 4\n",
    "print(y)"
   ]
  },
  {
   "cell_type": "code",
   "execution_count": 41,
   "id": "bf4a76b6-11b3-4be4-b8a5-8b27e77d9d02",
   "metadata": {},
   "outputs": [
    {
     "name": "stdout",
     "output_type": "stream",
     "text": [
      "18\n"
     ]
    }
   ],
   "source": [
    "# the same variable may appear on both sides of an assignment!\n",
    "x = x + 5\n",
    "\n",
    "# it means that the original value x referrred to is replaced by a new value\n",
    "print(x)"
   ]
  },
  {
   "cell_type": "markdown",
   "id": "8e815add-8b94-48f2-90e1-944c75ba54cf",
   "metadata": {},
   "source": [
    "We can print more than variable value at once:"
   ]
  },
  {
   "cell_type": "code",
   "execution_count": 42,
   "id": "a4539348",
   "metadata": {},
   "outputs": [
    {
     "name": "stdout",
     "output_type": "stream",
     "text": [
      "18 17\n"
     ]
    }
   ],
   "source": [
    "print(x,y)"
   ]
  },
  {
   "cell_type": "markdown",
   "id": "121e734c",
   "metadata": {},
   "source": [
    "### Strings\n",
    "\n",
    "* The `input` function used to read input from keyboard always returns a <em>string</em>, which means a sequence of characters.\n",
    "* Conversion to an integer (the whole number like 0, 1 ,2 ... etc., including negatives like -1, -2 etc.) can be done by calling built-in `int` function.\n",
    "* Convertion to a floating-point number is performed with the built-in `float` function.\n",
    "* You **must** convert strings to numbers if you want to perform calculations on them.\n",
    "* The built-in `len` function is used to find the number of characters in a string (the length of the string)."
   ]
  },
  {
   "cell_type": "code",
   "execution_count": 43,
   "id": "b6831398",
   "metadata": {},
   "outputs": [
    {
     "name": "stdin",
     "output_type": "stream",
     "text": [
      "Your first name please:  John\n",
      "Your surname please:  Brown\n",
      "How old are you?  30\n",
      "How tall are you?  170\n"
     ]
    }
   ],
   "source": [
    "name = input('Your first name please: ') # pure string is expected\n",
    "surname = input('Your surname please: ') # again pure string is expected\n",
    "age = int(input('How old are you? ' )) # an integer is expected               \n",
    "height = float(input('How tall are you? ')) # a number with decimal places is  allowed/expected"
   ]
  },
  {
   "cell_type": "markdown",
   "id": "76acd059",
   "metadata": {},
   "source": [
    "* strings can be concatenated using `+` operator (note inclusion of an empty space, also a string type).\n",
    "* We often include additional strings like commas, colons or just empty spaces to improve output readibility."
   ]
  },
  {
   "cell_type": "code",
   "execution_count": 44,
   "id": "bc434d80",
   "metadata": {},
   "outputs": [
    {
     "name": "stdout",
     "output_type": "stream",
     "text": [
      "Your full name is  John Brown\n",
      "Your full name contains  10 characters.\n"
     ]
    }
   ],
   "source": [
    "full_name = name + ' ' + surname\n",
    "print('Your full name is ', full_name)\n",
    "print('Your full name contains ', len(full_name), 'characters.')"
   ]
  },
  {
   "cell_type": "markdown",
   "id": "58389042",
   "metadata": {},
   "source": [
    "* Each character in a string has a unique integer associated called 'index' which indicates its position in the string.\n",
    "* The first character in a string has index 0, the next one has index 1 and so on.\n",
    "* The last character in a string `s` has an index equal to `len(s)-1`.\n",
    "* You can access a single character in a string by placing index inside square brackets."
   ]
  },
  {
   "cell_type": "code",
   "execution_count": 45,
   "id": "bd14b5de",
   "metadata": {},
   "outputs": [
    {
     "name": "stdout",
     "output_type": "stream",
     "text": [
      "JB\n"
     ]
    }
   ],
   "source": [
    "# display your initials\n",
    "print(name[0] + surname[0])"
   ]
  },
  {
   "cell_type": "markdown",
   "id": "66a0722b",
   "metadata": {},
   "source": [
    "### Formatting values\n",
    "\n",
    "* A programmer can specify how to format a value using 'format specifier'.\n",
    "* The specifier uses one character to indicate type of the formatting: `s` - string, `f` - floating-point number, `d` or `i` - integer, `c` - character.\n",
    "* To understand formatting carefully study the examples below."
   ]
  },
  {
   "cell_type": "code",
   "execution_count": 46,
   "id": "cf3ad8ba",
   "metadata": {},
   "outputs": [],
   "source": [
    "x = 6\n",
    "y = 2.789\n",
    "z = 'engineering'"
   ]
  },
  {
   "cell_type": "code",
   "execution_count": 47,
   "id": "589d44b9",
   "metadata": {},
   "outputs": [
    {
     "name": "stdout",
     "output_type": "stream",
     "text": [
      "6\n"
     ]
    }
   ],
   "source": [
    "print('%d' %x)"
   ]
  },
  {
   "cell_type": "code",
   "execution_count": 48,
   "id": "b9862c6e",
   "metadata": {},
   "outputs": [
    {
     "name": "stdout",
     "output_type": "stream",
     "text": [
      "6 and 2.789000 and engineering\n"
     ]
    }
   ],
   "source": [
    "print('%d and %f and %s' %(x, y, z))"
   ]
  },
  {
   "cell_type": "code",
   "execution_count": 49,
   "id": "4ad8fd02",
   "metadata": {},
   "outputs": [
    {
     "name": "stdout",
     "output_type": "stream",
     "text": [
      "6 and 2.79 and engineering\n"
     ]
    }
   ],
   "source": [
    "# specify accuracy, two decimal places for value stored in 'y'\n",
    "print('%d and %.2f and %s' %(x, y, z))"
   ]
  },
  {
   "cell_type": "code",
   "execution_count": 50,
   "id": "1cd20cee",
   "metadata": {},
   "outputs": [
    {
     "name": "stdout",
     "output_type": "stream",
     "text": [
      "6 and      2.8 and engineering\n"
     ]
    }
   ],
   "source": [
    "# by saying %8.1 we tell Python that a total of at least 8 spaces \n",
    "# should be used to display the number, with 1 digit\n",
    "# to the right of the decimal point\n",
    "print('%d and %8.1f and %s' %(x, y, z))"
   ]
  },
  {
   "cell_type": "code",
   "execution_count": 51,
   "id": "02a296c1",
   "metadata": {},
   "outputs": [
    {
     "name": "stdout",
     "output_type": "stream",
     "text": [
      "2 and          engineering\n"
     ]
    }
   ],
   "source": [
    "# 20 places are reserved for the string\n",
    "print('%i and %20s' %(y, z))"
   ]
  },
  {
   "cell_type": "code",
   "execution_count": 52,
   "id": "f5e26efb",
   "metadata": {},
   "outputs": [
    {
     "name": "stdout",
     "output_type": "stream",
     "text": [
      "2 and  engineering\n"
     ]
    }
   ],
   "source": [
    "print('%i and %12s' %(y, z))"
   ]
  },
  {
   "cell_type": "code",
   "execution_count": 53,
   "id": "de78f476",
   "metadata": {},
   "outputs": [
    {
     "name": "stdout",
     "output_type": "stream",
     "text": [
      "   2 and          6\n"
     ]
    }
   ],
   "source": [
    "print('%4i and %10i' %(y,x))"
   ]
  },
  {
   "cell_type": "code",
   "execution_count": 54,
   "id": "6dc323ae",
   "metadata": {},
   "outputs": [
    {
     "name": "stdout",
     "output_type": "stream",
     "text": [
      "2  and    6\n"
     ]
    }
   ],
   "source": [
    "print('%-2i and %4i' %(y, x))"
   ]
  },
  {
   "cell_type": "code",
   "execution_count": 55,
   "id": "f004e1ae",
   "metadata": {},
   "outputs": [
    {
     "name": "stdout",
     "output_type": "stream",
     "text": [
      " 2 and    6\n"
     ]
    }
   ],
   "source": [
    "print('%2i and %4i' %(y, x))"
   ]
  },
  {
   "cell_type": "markdown",
   "id": "70ad28e8",
   "metadata": {},
   "source": [
    "### Calling functions"
   ]
  },
  {
   "cell_type": "markdown",
   "id": "5f19c762",
   "metadata": {},
   "source": [
    "* There are many various tasks programs frequently need to complete, like reading input, sorting a list or rounding a number.\n",
    "* For convenience, Python provides built-in functions to perform these tasks, for example: `input`, `sort`, `round`, `print` etc.\n",
    "* Functions are called by names followed by parentheses.\n",
    "* Many functions require additional values when you call them, and these values (called `arguments`) must be placed inside the parentheses when you call functions (arguments requirements are indicated by the corresponding parameters in the function definition).\n",
    "* Functions often return values, and if so, those values can be used in assignments, like `num = round(num)`.\n",
    "* If you would rather keep the original value stored in `num` (the one before you applied `round`), you would use different name for the new one, like `num2 = round(num)`."
   ]
  },
  {
   "cell_type": "markdown",
   "id": "d6aebb5b",
   "metadata": {},
   "source": [
    "## Exercises\n",
    "\n",
    "All exercises below are heavily based on this notebook material (no need to consult additional sources to complete them) and are intended to reinforce what you have learned in this notebook. It is strongly recommended that you attempt all of them before you check the provided solutions.  "
   ]
  },
  {
   "cell_type": "markdown",
   "id": "3b6a9ed2",
   "metadata": {},
   "source": [
    "### Printing on screen \n",
    "Create a function named `show_address` that will display your name and your mailing address. The function does not need to take any additional info or return anything. Therefore you may just call it like `show_address()` and it should print on screen something like:\n",
    "```\n",
    "your name\n",
    "street name and suburb\n",
    "postcode and city\n",
    "country\n",
    "```"
   ]
  },
  {
   "cell_type": "markdown",
   "id": "0caf8f25",
   "metadata": {},
   "source": [
    "#### Adding flexibility \n",
    "Modify your previous solution so that `show_address` accepts additional information, the name of the person to print the address. For example, when you call it `show_address('James Cook')` it will print out James Cook name followed by your address. You may also include other information by adding appropriate parameters, like shown below."
   ]
  },
  {
   "cell_type": "markdown",
   "id": "8b9342b1",
   "metadata": {},
   "source": [
    "Output example (note the function arguments)<br> \n",
    "<!-- \\centering ![image](./images/ex_1.1.1_out.png){width=0.25\\textwidth}\\centering -->\n",
    "<img align = \"left\" src=\"./images/ex_1.1.1_out.png\" width=\"80%\">"
   ]
  },
  {
   "cell_type": "markdown",
   "id": "cce268cf",
   "metadata": {},
   "source": [
    "### Finding the area of a rectangle\n",
    "\n",
    "Write a function `find_area` that asks the user to enter the width and length of a rectangular room. Once\n",
    "these values have been read, your program should compute and display the area of\n",
    "the room. The length and the width will be entered as floating-point numbers. Include\n",
    "units in your prompt and output message. Calling the function by name `find_area()` should produce the message like:\n",
    "```\n",
    "The area of your room is 24.4 square metres.\n",
    "```\n",
    "Of course, the actual number will differ for your room."
   ]
  },
  {
   "cell_type": "markdown",
   "id": "7dfeb13b",
   "metadata": {},
   "source": [
    "#### Adding more flexibility \n",
    "Modify your previous solution so that `find_area` accepts additional information, the name of the person to print the room area. For example, when you call it `find_area('Julie')` it will print out:\n",
    "```\n",
    "The area of your room Julie is 31.5 square metres.\n",
    "```"
   ]
  },
  {
   "cell_type": "markdown",
   "id": "4a6af121",
   "metadata": {},
   "source": [
    "#### Even more flexibility\n",
    "Modify your previous solution to find the volume of a room and not asking the user for input. Instead, the required input will be passed to the function inside parentheses. Call the function `find_volume`. It will accept four pieces of additional information: person's name, floor_width, floor_height, and room_height. "
   ]
  },
  {
   "cell_type": "markdown",
   "id": "320e6097",
   "metadata": {},
   "source": [
    "Output example (note the function arguments)<br> \n",
    "<!-- \\centering ![image](./images/ex_1.1.2_out.png){width=0.25\\textwidth}\\centering -->\n",
    "<img align = \"left\" src=\"./images/ex_1.1.2_out.png\" width=\"50%\">"
   ]
  },
  {
   "cell_type": "markdown",
   "id": "102b7fe2",
   "metadata": {},
   "source": [
    "### Free fall\n",
    "\n",
    "Given the height from which the object is dropped in metres,\n",
    "write a function named `free_fall_speed` that determines how quickly an object is travelling when it hits the\n",
    "ground. Assume the object's initial speed is $v_0$ and the acceleration\n",
    "due to gravity is constant $a=9.8m/s^2$ (as you recall from school). You can use the formula $v =\\sqrt{v_0^2 + 2ad}$ to compute the\n",
    "final velocity, $v$ , when the initial speed, $v_0$ , and distance, $d$, are known. You may either ask the user for input of $v_0$ and $d$ or pass this info to the function when you call it, like `free_fall_speed(10, 20)`. For practice you may as well provide both implementations. Print out the answer with 3 decimal places. To calculate the square root use the `import` statement to enable `sqrt` function\n",
    "```\n",
    "from math import sqrt\n",
    "```"
   ]
  },
  {
   "cell_type": "markdown",
   "id": "a3e4044c",
   "metadata": {},
   "source": [
    "Output example (note the function arguments)<br> \n",
    "<!-- \\centering ![image](./images/ex_1.1.3_out.png){width=0.25\\textwidth}\\centering -->\n",
    "<img align = \"left\" src=\"./images/ex_1.1.3_out.png\" width=\"40%\">"
   ]
  },
  {
   "cell_type": "markdown",
   "id": "fef47f13",
   "metadata": {},
   "source": [
    "### Basic Arithmetic\n",
    "\n",
    "Create a function that reads two integers, $x$ and $b$, from the user. It should compute and display the sum $x+y$, difference $x-y$, product $x*y$, quotient $x/y$ and the power $a^b$."
   ]
  },
  {
   "cell_type": "markdown",
   "id": "8c549f27",
   "metadata": {},
   "source": [
    "Output example (note the lack of function arguments)<br> \n",
    "<!-- \\centering ![image](./images/ex_1.1.4_out.png){width=0.25\\textwidth}\\centering -->\n",
    "<img align = \"left\" src=\"./images/ex_1.1.4_out.png\" width=\"30%\">"
   ]
  }
 ],
 "metadata": {
  "hide_input": false,
  "kernelspec": {
   "display_name": "Python 3 (ipykernel)",
   "language": "python",
   "name": "python3"
  },
  "language_info": {
   "codemirror_mode": {
    "name": "ipython",
    "version": 3
   },
   "file_extension": ".py",
   "mimetype": "text/x-python",
   "name": "python",
   "nbconvert_exporter": "python",
   "pygments_lexer": "ipython3",
   "version": "3.12.1"
  },
  "latex_envs": {
   "LaTeX_envs_menu_present": true,
   "autoclose": false,
   "autocomplete": true,
   "bibliofile": "biblio.bib",
   "cite_by": "apalike",
   "current_citInitial": 1,
   "eqLabelWithNumbers": false,
   "eqNumInitial": 1,
   "hotkeys": {
    "equation": "Ctrl-E",
    "itemize": "Ctrl-I"
   },
   "labels_anchors": false,
   "latex_user_defs": false,
   "report_style_numbering": false,
   "user_envs_cfg": false
  },
  "toc": {
   "base_numbering": 1,
   "nav_menu": {},
   "number_sections": true,
   "sideBar": true,
   "skip_h1_title": false,
   "title_cell": "Table of Contents",
   "title_sidebar": "Contents",
   "toc_cell": true,
   "toc_position": {},
   "toc_section_display": true,
   "toc_window_display": false
  }
 },
 "nbformat": 4,
 "nbformat_minor": 5
}