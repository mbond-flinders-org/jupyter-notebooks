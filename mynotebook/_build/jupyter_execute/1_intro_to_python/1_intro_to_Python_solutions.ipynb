{
 "cells": [
  {
   "cell_type": "markdown",
   "id": "433741bc",
   "metadata": {},
   "source": [
    "# Introducing Python - solutions to exercises"
   ]
  },
  {
   "cell_type": "markdown",
   "id": "71342440",
   "metadata": {
    "toc": true
   },
   "source": [
    "<h1>Table of Contents<span class=\"tocSkip\"></span></h1>\n",
    "<div class=\"toc\"><ul class=\"toc-item\"><li><span><a href=\"#Introducing-Python---solutions-to-exercises\" data-toc-modified-id=\"Introducing-Python---solutions-to-exercises-1\"><span class=\"toc-item-num\">1&nbsp;&nbsp;</span>Introducing Python - solutions to exercises</a></span><ul class=\"toc-item\"><li><span><a href=\"#Printing-on-screen\" data-toc-modified-id=\"Printing-on-screen-1.1\"><span class=\"toc-item-num\">1.1&nbsp;&nbsp;</span>Printing on screen</a></span><ul class=\"toc-item\"><li><span><a href=\"#Adding-flexibility\" data-toc-modified-id=\"Adding-flexibility-1.1.1\"><span class=\"toc-item-num\">1.1.1&nbsp;&nbsp;</span>Adding flexibility</a></span></li></ul></li><li><span><a href=\"#Finding-the-area-of-a-rectangle\" data-toc-modified-id=\"Finding-the-area-of-a-rectangle-1.2\"><span class=\"toc-item-num\">1.2&nbsp;&nbsp;</span>Finding the area of a rectangle</a></span><ul class=\"toc-item\"><li><span><a href=\"#Adding-flexibility\" data-toc-modified-id=\"Adding-flexibility-1.2.1\"><span class=\"toc-item-num\">1.2.1&nbsp;&nbsp;</span>Adding flexibility</a></span></li></ul></li><li><span><a href=\"#Free-fall\" data-toc-modified-id=\"Free-fall-1.3\"><span class=\"toc-item-num\">1.3&nbsp;&nbsp;</span>Free fall</a></span></li><li><span><a href=\"#Basic-Arithmetic\" data-toc-modified-id=\"Basic-Arithmetic-1.4\"><span class=\"toc-item-num\">1.4&nbsp;&nbsp;</span>Basic Arithmetic</a></span></li></ul></li></ul></div>"
   ]
  },
  {
   "cell_type": "markdown",
   "id": "3b6a9ed2",
   "metadata": {},
   "source": [
    "## Printing on screen \n",
    "Create a function named `show_address` that will display your name and your mailing address. The function does not need to take any additional info or return anything. Therefore you may just call it like `show_address()` and it should print on screen something like:\n",
    "```\n",
    "your name\n",
    "street name and suburb\n",
    "postcode and city\n",
    "country\n",
    "```"
   ]
  },
  {
   "cell_type": "markdown",
   "id": "2742dcbf",
   "metadata": {},
   "source": [
    "The function will have empty parameter list and will not have the  `return` statement."
   ]
  },
  {
   "cell_type": "code",
   "execution_count": 1,
   "id": "20e7a62b",
   "metadata": {},
   "outputs": [],
   "source": [
    "def show_address():\n",
    "    print('Jon Snow')\n",
    "    print('Mystery Road, IceTree')\n",
    "    print('1235, Pentos')\n",
    "    print('Westeros')"
   ]
  },
  {
   "cell_type": "code",
   "execution_count": 2,
   "id": "f7448e46",
   "metadata": {},
   "outputs": [
    {
     "name": "stdout",
     "output_type": "stream",
     "text": [
      "Jon Snow\n",
      "Mystery Road, IceTree\n",
      "1235, Pentos\n",
      "Westeros\n"
     ]
    }
   ],
   "source": [
    "show_address()"
   ]
  },
  {
   "cell_type": "markdown",
   "id": "0caf8f25",
   "metadata": {},
   "source": [
    "### Adding flexibility \n",
    "Modify your previous solution so that `show_address` accepts additional information, the name of the person to print the address. For example, when you call it `show_address('James Cook')` it will print out James Cook name followed by your address. "
   ]
  },
  {
   "cell_type": "code",
   "execution_count": 3,
   "id": "fa9ea652",
   "metadata": {},
   "outputs": [],
   "source": [
    "def show_address(name,street,suburb,postcode,city,country):\n",
    "    print(name)\n",
    "    print(street,suburb)\n",
    "    print(postcode,city)\n",
    "    print(country)"
   ]
  },
  {
   "cell_type": "code",
   "execution_count": 4,
   "id": "15f53d76",
   "metadata": {},
   "outputs": [
    {
     "name": "stdout",
     "output_type": "stream",
     "text": [
      "Jack Snell\n",
      "West Ave. Kingswood\n",
      "3231 Silver City\n",
      "Greenland\n"
     ]
    }
   ],
   "source": [
    "show_address('Jack Snell', 'West Ave.', 'Kingswood', '3231', 'Silver City', 'Greenland')"
   ]
  },
  {
   "cell_type": "code",
   "execution_count": 5,
   "id": "b7ed46ca",
   "metadata": {},
   "outputs": [
    {
     "name": "stdout",
     "output_type": "stream",
     "text": [
      "Andy Shark\n",
      "South Ave. Woodside\n",
      "1231 Iced City\n",
      "Redland\n"
     ]
    }
   ],
   "source": [
    "show_address('Andy Shark', 'South Ave.', 'Woodside', '1231', 'Iced City', 'Redland')"
   ]
  },
  {
   "cell_type": "markdown",
   "id": "cce268cf",
   "metadata": {},
   "source": [
    "## Finding the area of a rectangle\n",
    "\n",
    "Write a function `find_area` that asks the user to enter the width and length of a rectangular room. Once\n",
    "these values have been read, your program should compute and display the area of\n",
    "the room. The length and the width will be entered as floating-point numbers. Include\n",
    "units in your prompt and output message. Calling the function by name `find_area()` should produce the message like:\n",
    "```\n",
    "The area of your room is 24.4 square metres.\n",
    "```\n",
    "Of course, the actual number will differ for your room."
   ]
  },
  {
   "cell_type": "code",
   "execution_count": 6,
   "id": "db4f19fb",
   "metadata": {},
   "outputs": [],
   "source": [
    "def find_area():\n",
    "    # Read the width and height of the room floor\n",
    "    width = float(input('Enter width of the room: '))\n",
    "    height = float(input('Enter height of the room: '))\n",
    "    \n",
    "    #apply formula (known from school) for area of a reactangle\n",
    "    area = width * height\n",
    "    \n",
    "    #print out/display the output\n",
    "    print('The area of the room is %.1f square metres.' %area)"
   ]
  },
  {
   "cell_type": "code",
   "execution_count": 7,
   "id": "f61ad0fc",
   "metadata": {},
   "outputs": [
    {
     "ename": "StdinNotImplementedError",
     "evalue": "raw_input was called, but this frontend does not support input requests.",
     "output_type": "error",
     "traceback": [
      "\u001b[0;31m---------------------------------------------------------------------------\u001b[0m",
      "\u001b[0;31mStdinNotImplementedError\u001b[0m                  Traceback (most recent call last)",
      "Cell \u001b[0;32mIn[7], line 1\u001b[0m\n\u001b[0;32m----> 1\u001b[0m \u001b[43mfind_area\u001b[49m\u001b[43m(\u001b[49m\u001b[43m)\u001b[49m\n",
      "Cell \u001b[0;32mIn[6], line 3\u001b[0m, in \u001b[0;36mfind_area\u001b[0;34m()\u001b[0m\n\u001b[1;32m      1\u001b[0m \u001b[38;5;28;01mdef\u001b[39;00m \u001b[38;5;21mfind_area\u001b[39m():\n\u001b[1;32m      2\u001b[0m     \u001b[38;5;66;03m# Read the width and height of the room floor\u001b[39;00m\n\u001b[0;32m----> 3\u001b[0m     width \u001b[38;5;241m=\u001b[39m \u001b[38;5;28mfloat\u001b[39m(\u001b[38;5;28;43minput\u001b[39;49m\u001b[43m(\u001b[49m\u001b[38;5;124;43m'\u001b[39;49m\u001b[38;5;124;43mEnter width of the room: \u001b[39;49m\u001b[38;5;124;43m'\u001b[39;49m\u001b[43m)\u001b[49m)\n\u001b[1;32m      4\u001b[0m     height \u001b[38;5;241m=\u001b[39m \u001b[38;5;28mfloat\u001b[39m(\u001b[38;5;28minput\u001b[39m(\u001b[38;5;124m'\u001b[39m\u001b[38;5;124mEnter height of the room: \u001b[39m\u001b[38;5;124m'\u001b[39m))\n\u001b[1;32m      6\u001b[0m     \u001b[38;5;66;03m#apply formula (known from school) for area of a reactangle\u001b[39;00m\n",
      "File \u001b[0;32m~/.cache/pypoetry/virtualenvs/jupyter-notebooks-bcv3Fqos-py3.12/lib/python3.12/site-packages/ipykernel/kernelbase.py:1281\u001b[0m, in \u001b[0;36mKernel.raw_input\u001b[0;34m(self, prompt)\u001b[0m\n\u001b[1;32m   1279\u001b[0m \u001b[38;5;28;01mif\u001b[39;00m \u001b[38;5;129;01mnot\u001b[39;00m \u001b[38;5;28mself\u001b[39m\u001b[38;5;241m.\u001b[39m_allow_stdin:\n\u001b[1;32m   1280\u001b[0m     msg \u001b[38;5;241m=\u001b[39m \u001b[38;5;124m\"\u001b[39m\u001b[38;5;124mraw_input was called, but this frontend does not support input requests.\u001b[39m\u001b[38;5;124m\"\u001b[39m\n\u001b[0;32m-> 1281\u001b[0m     \u001b[38;5;28;01mraise\u001b[39;00m StdinNotImplementedError(msg)\n\u001b[1;32m   1282\u001b[0m \u001b[38;5;28;01mreturn\u001b[39;00m \u001b[38;5;28mself\u001b[39m\u001b[38;5;241m.\u001b[39m_input_request(\n\u001b[1;32m   1283\u001b[0m     \u001b[38;5;28mstr\u001b[39m(prompt),\n\u001b[1;32m   1284\u001b[0m     \u001b[38;5;28mself\u001b[39m\u001b[38;5;241m.\u001b[39m_parent_ident[\u001b[38;5;124m\"\u001b[39m\u001b[38;5;124mshell\u001b[39m\u001b[38;5;124m\"\u001b[39m],\n\u001b[1;32m   1285\u001b[0m     \u001b[38;5;28mself\u001b[39m\u001b[38;5;241m.\u001b[39mget_parent(\u001b[38;5;124m\"\u001b[39m\u001b[38;5;124mshell\u001b[39m\u001b[38;5;124m\"\u001b[39m),\n\u001b[1;32m   1286\u001b[0m     password\u001b[38;5;241m=\u001b[39m\u001b[38;5;28;01mFalse\u001b[39;00m,\n\u001b[1;32m   1287\u001b[0m )\n",
      "\u001b[0;31mStdinNotImplementedError\u001b[0m: raw_input was called, but this frontend does not support input requests."
     ]
    }
   ],
   "source": [
    "find_area()"
   ]
  },
  {
   "cell_type": "code",
   "execution_count": 8,
   "id": "644bbad3",
   "metadata": {},
   "outputs": [],
   "source": [
    "def find_area(name):\n",
    "    width = float(input('Enter width of the room: '))\n",
    "    height = float(input('Enter height of the room: '))\n",
    "    area = width * height\n",
    "    print('The area of your room %s is %.1f square metres.' %(name,area))"
   ]
  },
  {
   "cell_type": "code",
   "execution_count": 9,
   "id": "98978d5e",
   "metadata": {},
   "outputs": [
    {
     "name": "stdin",
     "output_type": "stream",
     "text": [
      "Enter width of the room:  2.8\n",
      "Enter height of the room:  2.4\n"
     ]
    },
    {
     "name": "stdout",
     "output_type": "stream",
     "text": [
      "The area of your room Julie is 6.7 square metres.\n"
     ]
    }
   ],
   "source": [
    "find_area('Julie')"
   ]
  },
  {
   "cell_type": "markdown",
   "id": "4a6af121",
   "metadata": {},
   "source": [
    "### Adding flexibility\n",
    "Modify your previous solution to find the volume of a room and not asking the user for input. Instead, the required input will be passed to the function through arguments. Call the function `find_volume`. It will accept four pieces of additional information: person's name, floor_width, floor_height, and room_height. For example, when you call it `find_volume('Julie', 5, 3.21, 2.7)` it will print out:\n",
    "```\n",
    "The volume of your room Julie is 43.36 cubic metres.\n",
    "```\n",
    "\n",
    "Note that you do not need to read the required information using `input` function."
   ]
  },
  {
   "cell_type": "code",
   "execution_count": 10,
   "id": "0d8a15fe",
   "metadata": {},
   "outputs": [],
   "source": [
    "def find_volume(name,floor_width, floor_height, room_height):\n",
    "    volume = floor_width * floor_height*room_height\n",
    "    print('The volume of your room %s is %.1f cubic metres.' %(name,volume))"
   ]
  },
  {
   "cell_type": "code",
   "execution_count": 11,
   "id": "37c57ef2",
   "metadata": {},
   "outputs": [
    {
     "name": "stdout",
     "output_type": "stream",
     "text": [
      "The volume of your room Julie is 43.3 cubic metres.\n"
     ]
    }
   ],
   "source": [
    "find_volume('Julie', 5, 3.21, 2.7)"
   ]
  },
  {
   "cell_type": "markdown",
   "id": "102b7fe2",
   "metadata": {},
   "source": [
    "## Free fall\n",
    "\n",
    "Given the height from which the object is dropped in metres,\n",
    "write a function named `free_fall_speed` that determines how quickly an object is travelling when it hits the\n",
    "ground. Assume the object's initial speed is $v_0$ and the acceleration\n",
    "due to gravity is constant $a=9.8m/s^2$ (as you recall from school). You can use the formula $v =\\sqrt{v_0^2 + 2ad}$ to compute the\n",
    "final velocity, $v$ , when the initial speed, $v_0$ , and distance, $d$, are known. You may either ask the user for input of $v_0$ and $d$ or pass this info to the function when you call it, like `free_fall_speed(10, 20)`. For practice you may as well provide both implementations. Print out the answer with 3 decimal places. To calculate the square root use the `import` statement to enable `sqrt` function\n",
    "```\n",
    "from math import sqrt\n",
    "```"
   ]
  },
  {
   "cell_type": "code",
   "execution_count": 12,
   "id": "3206d312",
   "metadata": {},
   "outputs": [],
   "source": [
    "def free_fall_speed(ini_speed, distance):\n",
    "    from math import sqrt\n",
    "    \n",
    "    # Define a constant for the acceleration due to gravity in m/s**2\n",
    "    GRAVITY = 9.8\n",
    "\n",
    "    # Compute the final velocity\n",
    "    vf = sqrt(ini_speed**2 + 2 * GRAVITY * distance)\n",
    "\n",
    "    # Display the result\n",
    "    print(\"It will hit the ground at %.2f m/s.\" % vf)"
   ]
  },
  {
   "cell_type": "code",
   "execution_count": 13,
   "id": "6372cb58",
   "metadata": {},
   "outputs": [
    {
     "name": "stdout",
     "output_type": "stream",
     "text": [
      "It will hit the ground at 22.18 m/s.\n"
     ]
    }
   ],
   "source": [
    "free_fall_speed(10,20)"
   ]
  },
  {
   "cell_type": "markdown",
   "id": "86dadc53",
   "metadata": {},
   "source": [
    "alternatively, you could ask for user for all (or some) input values:"
   ]
  },
  {
   "cell_type": "code",
   "execution_count": 14,
   "id": "2c756248",
   "metadata": {},
   "outputs": [],
   "source": [
    "def free_fall_speed2(ini_speed):\n",
    "    from math import sqrt\n",
    "    \n",
    "    # Define a constant for the acceleration due to gravity in m/s**2\n",
    "    GRAVITY = 9.8\n",
    "    \n",
    "    # Read the height from which the object is dropped\n",
    "    distance = float(input(\"Enter height (in meters): \"))\n",
    "    \n",
    "    # Compute the final velocity\n",
    "    vf = sqrt(ini_speed**2 + 2 * GRAVITY * distance)\n",
    "\n",
    "    # Display the result\n",
    "    print(\"It will hit the ground at %.2f m/s.\" % vf)    \n"
   ]
  },
  {
   "cell_type": "code",
   "execution_count": 15,
   "id": "879c20f2",
   "metadata": {},
   "outputs": [
    {
     "name": "stdin",
     "output_type": "stream",
     "text": [
      "Enter height (in meters):  2.7\n"
     ]
    },
    {
     "name": "stdout",
     "output_type": "stream",
     "text": [
      "It will hit the ground at 12.37 m/s.\n"
     ]
    }
   ],
   "source": [
    "free_fall_speed2(10)"
   ]
  },
  {
   "cell_type": "markdown",
   "id": "fef47f13",
   "metadata": {},
   "source": [
    "## Basic Arithmetic\n",
    "\n",
    "Create a function that reads two integers, $x$ and $y$, from the user. It should compute and display the sum $x+y$, difference $x-y$, product $x*y$, quotient $x/y$ and the power $x^y$."
   ]
  },
  {
   "cell_type": "code",
   "execution_count": 16,
   "id": "191e06ed",
   "metadata": {},
   "outputs": [],
   "source": [
    "def arithmetic():\n",
    "    # Read the input values from the user\n",
    "    x = int(input('Enter the value of x: '))\n",
    "    y = int(input('Enter the value of y: '))\n",
    "    # Compute and display the sum, difference, product, quotient and power\n",
    "    print(x, '+', y, 'is', x + y)\n",
    "    print(x, '-', y, 'is', x - y)\n",
    "    print(x, '*', y, 'is', x * y)\n",
    "    print(x, '/', y, 'is', x / y)\n",
    "    print(x, '**', y, 'is', x**y)"
   ]
  },
  {
   "cell_type": "code",
   "execution_count": 17,
   "id": "f2dd0e13",
   "metadata": {},
   "outputs": [
    {
     "name": "stdin",
     "output_type": "stream",
     "text": [
      "Enter the value of x:  112\n",
      "Enter the value of y:  7\n"
     ]
    },
    {
     "name": "stdout",
     "output_type": "stream",
     "text": [
      "112 + 7 is 119\n",
      "112 - 7 is 105\n",
      "112 * 7 is 784\n",
      "112 / 7 is 16.0\n",
      "112 ** 7 is 221068140740608\n"
     ]
    }
   ],
   "source": [
    "arithmetic()"
   ]
  }
 ],
 "metadata": {
  "hide_input": false,
  "kernelspec": {
   "display_name": "Python 3 (ipykernel)",
   "language": "python",
   "name": "python3"
  },
  "language_info": {
   "codemirror_mode": {
    "name": "ipython",
    "version": 3
   },
   "file_extension": ".py",
   "mimetype": "text/x-python",
   "name": "python",
   "nbconvert_exporter": "python",
   "pygments_lexer": "ipython3",
   "version": "3.12.1"
  },
  "latex_envs": {
   "LaTeX_envs_menu_present": true,
   "autoclose": false,
   "autocomplete": true,
   "bibliofile": "biblio.bib",
   "cite_by": "apalike",
   "current_citInitial": 1,
   "eqLabelWithNumbers": false,
   "eqNumInitial": 1,
   "hotkeys": {
    "equation": "Ctrl-E",
    "itemize": "Ctrl-I"
   },
   "labels_anchors": false,
   "latex_user_defs": false,
   "report_style_numbering": false,
   "user_envs_cfg": false
  },
  "toc": {
   "base_numbering": 1,
   "nav_menu": {},
   "number_sections": true,
   "sideBar": true,
   "skip_h1_title": false,
   "title_cell": "Table of Contents",
   "title_sidebar": "Contents",
   "toc_cell": true,
   "toc_position": {},
   "toc_section_display": true,
   "toc_window_display": false
  }
 },
 "nbformat": 4,
 "nbformat_minor": 5
}