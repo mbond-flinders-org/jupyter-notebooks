{
 "cells": [
  {
   "cell_type": "markdown",
   "id": "3edcee4c",
   "metadata": {},
   "source": [
    "# Making decisions"
   ]
  },
  {
   "cell_type": "markdown",
   "id": "75c50d6d",
   "metadata": {},
   "source": [
    "Author: $\\color{blue}{\\text{Mariusz Bajger, Flinders University}}$<br>\n",
    "Topic: $\\color{blue}{\\text{ENGR1721/8800 Engineering Programming}}$\n",
    "\n",
    "Online resources: <br>\n",
    "> [Python official website](https://www.python.org/)<br>\n",
    "[Jupyter - a next-generation notebook interface](https://jupyter.org/)<br>\n",
    "[Python built-in functions](https://docs.python.org/3/library/functions.html)<br>\n",
    "[NumPy - Numerical Python Library](https://numpy.org/)<br>\n",
    "[math - mathematical functions library](https://docs.python.org/3/library/math.html)<br>"
   ]
  },
  {
   "cell_type": "markdown",
   "id": "61dcd3e4",
   "metadata": {
    "toc": true
   },
   "source": [
    "<h1>Table of Contents<span class=\"tocSkip\"></span></h1>\n",
    "<div class=\"toc\"><ul class=\"toc-item\"><li><span><a href=\"#Making-decisions\" data-toc-modified-id=\"Making-decisions-2\"><span class=\"toc-item-num\">2&nbsp;&nbsp;</span>Making decisions</a></span><ul class=\"toc-item\"><li><span><a href=\"#Checking-parity-of-numbers\" data-toc-modified-id=\"Checking-parity-of-numbers-2.1\"><span class=\"toc-item-num\">2.1&nbsp;&nbsp;</span>Checking parity of numbers</a></span><ul class=\"toc-item\"><li><span><a href=\"#Notes\" data-toc-modified-id=\"Notes-2.1.1\"><span class=\"toc-item-num\">2.1.1&nbsp;&nbsp;</span>Notes</a></span></li></ul></li><li><span><a href=\"#Finding-colour-of-chessboard-squares\" data-toc-modified-id=\"Finding-colour-of-chessboard-squares-2.2\"><span class=\"toc-item-num\">2.2&nbsp;&nbsp;</span>Finding colour of chessboard squares</a></span><ul class=\"toc-item\"><li><span><a href=\"#Notes\" data-toc-modified-id=\"Notes-2.2.1\"><span class=\"toc-item-num\">2.2.1&nbsp;&nbsp;</span>Notes</a></span></li></ul></li><li><span><a href=\"#Converting-letter-grade-to-points\" data-toc-modified-id=\"Converting-letter-grade-to-points-2.3\"><span class=\"toc-item-num\">2.3&nbsp;&nbsp;</span>Converting letter grade to points</a></span><ul class=\"toc-item\"><li><span><a href=\"#Notes\" data-toc-modified-id=\"Notes-2.3.1\"><span class=\"toc-item-num\">2.3.1&nbsp;&nbsp;</span>Notes</a></span></li></ul></li><li><span><a href=\"#Solving-quadratic-equations\" data-toc-modified-id=\"Solving-quadratic-equations-2.4\"><span class=\"toc-item-num\">2.4&nbsp;&nbsp;</span>Solving quadratic equations</a></span><ul class=\"toc-item\"><li><span><a href=\"#Notes\" data-toc-modified-id=\"Notes-2.4.1\"><span class=\"toc-item-num\">2.4.1&nbsp;&nbsp;</span>Notes</a></span></li></ul></li><li><span><a href=\"#Tell-me-more---potentially-boring-but-very-usefull-stuff-to-know---do-not-skip!\" data-toc-modified-id=\"Tell-me-more---potentially-boring-but-very-usefull-stuff-to-know---do-not-skip!-2.5\"><span class=\"toc-item-num\">2.5&nbsp;&nbsp;</span>Tell me more - potentially boring but very usefull stuff to know - do not skip!</a></span><ul class=\"toc-item\"><li><span><a href=\"#Boolean-logic\" data-toc-modified-id=\"Boolean-logic-2.5.1\"><span class=\"toc-item-num\">2.5.1&nbsp;&nbsp;</span>Boolean logic</a></span></li></ul></li><li><span><a href=\"#Exercises\" data-toc-modified-id=\"Exercises-2.6\"><span class=\"toc-item-num\">2.6&nbsp;&nbsp;</span>Exercises</a></span><ul class=\"toc-item\"><li><span><a href=\"#Calculate-Body-Mass-Index-(BMI)\" data-toc-modified-id=\"Calculate-Body-Mass-Index-(BMI)-2.6.1\"><span class=\"toc-item-num\">2.6.1&nbsp;&nbsp;</span>Calculate Body Mass Index (BMI)</a></span></li><li><span><a href=\"#How-many-days-in-the-month?\" data-toc-modified-id=\"How-many-days-in-the-month?-2.6.2\"><span class=\"toc-item-num\">2.6.2&nbsp;&nbsp;</span>How many days in the month?</a></span></li><li><span><a href=\"#Is-it-the-snake-year,-or-the-dragon-one?\" data-toc-modified-id=\"Is-it-the-snake-year,-or-the-dragon-one?-2.6.3\"><span class=\"toc-item-num\">2.6.3&nbsp;&nbsp;</span>Is it the snake year, or the dragon one?</a></span></li></ul></li></ul></li></ul></div>"
   ]
  },
  {
   "cell_type": "markdown",
   "id": "58461d68",
   "metadata": {},
   "source": [
    "## Checking parity of numbers"
   ]
  },
  {
   "cell_type": "markdown",
   "id": "48e4a637",
   "metadata": {},
   "source": [
    "Let us write a program that reads an integer from  the user, checks whether the number is even or odd, and informs the user about the outcome."
   ]
  },
  {
   "cell_type": "code",
   "execution_count": 1,
   "id": "d9c504df",
   "metadata": {},
   "outputs": [
    {
     "ename": "StdinNotImplementedError",
     "evalue": "raw_input was called, but this frontend does not support input requests.",
     "output_type": "error",
     "traceback": [
      "\u001b[0;31m---------------------------------------------------------------------------\u001b[0m",
      "\u001b[0;31mStdinNotImplementedError\u001b[0m                  Traceback (most recent call last)",
      "Cell \u001b[0;32mIn[1], line 1\u001b[0m\n\u001b[0;32m----> 1\u001b[0m number \u001b[38;5;241m=\u001b[39m \u001b[38;5;28mint\u001b[39m(\u001b[38;5;28;43minput\u001b[39;49m\u001b[43m(\u001b[49m\u001b[38;5;124;43m'\u001b[39;49m\u001b[38;5;124;43mEnter an integer: \u001b[39;49m\u001b[38;5;124;43m'\u001b[39;49m\u001b[43m)\u001b[49m)\n\u001b[1;32m      2\u001b[0m \u001b[38;5;66;03m# we use so called conditional statement (or branching) to direct program execution \u001b[39;00m\n\u001b[1;32m      3\u001b[0m \u001b[38;5;66;03m# here the execution flow is based on truth value of a logical condition\u001b[39;00m\n\u001b[1;32m      4\u001b[0m \u001b[38;5;66;03m# if the condition is true\u001b[39;00m\n\u001b[1;32m      5\u001b[0m \u001b[38;5;28;01mif\u001b[39;00m number \u001b[38;5;241m%\u001b[39m \u001b[38;5;241m2\u001b[39m \u001b[38;5;241m==\u001b[39m \u001b[38;5;241m0\u001b[39m: \n",
      "File \u001b[0;32m~/.cache/pypoetry/virtualenvs/jupyter-notebooks-bcv3Fqos-py3.12/lib/python3.12/site-packages/ipykernel/kernelbase.py:1281\u001b[0m, in \u001b[0;36mKernel.raw_input\u001b[0;34m(self, prompt)\u001b[0m\n\u001b[1;32m   1279\u001b[0m \u001b[38;5;28;01mif\u001b[39;00m \u001b[38;5;129;01mnot\u001b[39;00m \u001b[38;5;28mself\u001b[39m\u001b[38;5;241m.\u001b[39m_allow_stdin:\n\u001b[1;32m   1280\u001b[0m     msg \u001b[38;5;241m=\u001b[39m \u001b[38;5;124m\"\u001b[39m\u001b[38;5;124mraw_input was called, but this frontend does not support input requests.\u001b[39m\u001b[38;5;124m\"\u001b[39m\n\u001b[0;32m-> 1281\u001b[0m     \u001b[38;5;28;01mraise\u001b[39;00m StdinNotImplementedError(msg)\n\u001b[1;32m   1282\u001b[0m \u001b[38;5;28;01mreturn\u001b[39;00m \u001b[38;5;28mself\u001b[39m\u001b[38;5;241m.\u001b[39m_input_request(\n\u001b[1;32m   1283\u001b[0m     \u001b[38;5;28mstr\u001b[39m(prompt),\n\u001b[1;32m   1284\u001b[0m     \u001b[38;5;28mself\u001b[39m\u001b[38;5;241m.\u001b[39m_parent_ident[\u001b[38;5;124m\"\u001b[39m\u001b[38;5;124mshell\u001b[39m\u001b[38;5;124m\"\u001b[39m],\n\u001b[1;32m   1285\u001b[0m     \u001b[38;5;28mself\u001b[39m\u001b[38;5;241m.\u001b[39mget_parent(\u001b[38;5;124m\"\u001b[39m\u001b[38;5;124mshell\u001b[39m\u001b[38;5;124m\"\u001b[39m),\n\u001b[1;32m   1286\u001b[0m     password\u001b[38;5;241m=\u001b[39m\u001b[38;5;28;01mFalse\u001b[39;00m,\n\u001b[1;32m   1287\u001b[0m )\n",
      "\u001b[0;31mStdinNotImplementedError\u001b[0m: raw_input was called, but this frontend does not support input requests."
     ]
    }
   ],
   "source": [
    "number = int(input('Enter an integer: '))\n",
    "# we use so called conditional statement (or branching) to direct program execution \n",
    "# here the execution flow is based on truth value of a logical condition\n",
    "# if the condition is true\n",
    "if number % 2 == 0: \n",
    "    print(number, 'is even.')\n",
    "# otherwise, when the condition fails\n",
    "else: \n",
    "    print(number, 'is odd.')"
   ]
  },
  {
   "cell_type": "markdown",
   "id": "fb191faa",
   "metadata": {},
   "source": [
    "### Notes\n",
    "* The flowchart illustrates the logic behind the `if-else` statement.\n",
    "<!-- \\centering ![diagram](./images/if_else_flowchart.png){width=0.01\\textwidth}\\par -->\n",
    "<img src=\"./images/if_else_flowchart.png\" width=\"40%\"/>\n",
    "* Recall that indents in code are critical! (Keep at 4 spaces, this is the most often used setting.)\n",
    "* The operator `%` is called **modulus** or **remainder** and it returns `0` for even number and `1` for odd numbers because dividing an even number by 2 always yields a remainder of 0 while dividing an odd number by 2 results in a remainder of 1.\n",
    "* Do not confuse `%` with the formatting placeholder (look at the context to recognise the meaning of `%` in a given statement).\n",
    "* More examples of using modulus: `4 % 3 = 1`, `10 % 5 = 0`, `4 % 5 = 4` etc.\n",
    "* An `if` statement must include a logical condition like `number % 2 == 0` yielding `True` or `False`.\n",
    "* Statements with `if` are called <em>conditional statements</em>.\n",
    "* If the condition resolves to `True`, the body of the `if` statement is executed, otherwise (when it evaluates to `False`), the body of the `if` statement is skipped and the execution continues at the first line after the body of `if` (note that indents indicate start and end of the body.)\n",
    "* The logical condition may include comparison operator `==`, which reads <em>equals to</em> (Do not confuse it with an assignment statement!)\n",
    "* You may also use other comparison operators, well-known from school, like: `>, <, >=, <=` or not equal `!=` operator."
   ]
  },
  {
   "cell_type": "markdown",
   "id": "091cfe5c",
   "metadata": {},
   "source": [
    "Now, we convert the solution to a function so that we can easily reuse it later. Name the function  `check_number`."
   ]
  },
  {
   "cell_type": "code",
   "execution_count": 2,
   "id": "75b01269",
   "metadata": {},
   "outputs": [],
   "source": [
    "def check_number(num):\n",
    "    if num % 2 == 0:\n",
    "        print(num, 'is even.')\n",
    "    else:\n",
    "        print(num, 'is odd.') "
   ]
  },
  {
   "cell_type": "markdown",
   "id": "aa18a09a",
   "metadata": {},
   "source": [
    "Test the new function."
   ]
  },
  {
   "cell_type": "code",
   "execution_count": 3,
   "id": "640838fe",
   "metadata": {},
   "outputs": [
    {
     "name": "stdout",
     "output_type": "stream",
     "text": [
      "21 is odd.\n"
     ]
    }
   ],
   "source": [
    "check_number(21)"
   ]
  },
  {
   "cell_type": "markdown",
   "id": "57594f24",
   "metadata": {},
   "source": [
    "## Finding colour of chessboard squares\n",
    "\n",
    "Write a program that reads a position from the user, like `a4` or `f6` and reports the colour of the corresponding chessboard square. A picture of chessboard is shown below so that you can check your program correctness."
   ]
  },
  {
   "cell_type": "markdown",
   "id": "3caade1c-41ef-458a-8b1c-b5b4062b06bc",
   "metadata": {},
   "source": [
    "<!-- \\centering ![](images/chess_board.png){width=0.01\\textwidth height=0.01\\textwidth}\\par -->\n",
    "<img src=\"./images/chess_board.png\" width=\"20%\" height=\"20%\">"
   ]
  },
  {
   "cell_type": "code",
   "execution_count": 4,
   "id": "cebe67c4-932a-486d-ab0e-2a700271c44b",
   "metadata": {},
   "outputs": [],
   "source": [
    "def find_square_colour(position):\n",
    "    # recall from 1.4.4 the technique of retrieving characters from a string\n",
    "    # get the first character from 'position' string\n",
    "    column = position[0] \n",
    "    # get the second character from 'position' string and convert it to an integer\n",
    "    row = int(position[1])\n",
    "    \n",
    "    # build a conditional statement combining several logical conditions\n",
    "    if column == 'a' or column == 'c' or column=='e' or column == 'g':\n",
    "        if row % 2 == 0:\n",
    "            colour = 'white'\n",
    "        else:\n",
    "            colour == 'black'\n",
    "    else:\n",
    "        if row % 2 == 0:\n",
    "            colour = 'black'\n",
    "        else:\n",
    "            colour == 'white'\n",
    "            \n",
    "    # display the answer        \n",
    "    print('The square is %s' %colour)    "
   ]
  },
  {
   "cell_type": "code",
   "execution_count": 5,
   "id": "2b88a432",
   "metadata": {},
   "outputs": [
    {
     "name": "stdout",
     "output_type": "stream",
     "text": [
      "The square is white\n"
     ]
    }
   ],
   "source": [
    "find_square_colour('g8')"
   ]
  },
  {
   "cell_type": "markdown",
   "id": "b59956f6",
   "metadata": {},
   "source": [
    "### Notes"
   ]
  },
  {
   "cell_type": "markdown",
   "id": "df5c4325",
   "metadata": {},
   "source": [
    "* One can put `if` inside of `if`; we call it <em>nested</em> `if` statements.\n",
    "* There is no limitation on number of nested statements but rarely more than three levels of nesting are used.\n",
    "* Nesting complicates the code, use with caution!\n",
    "* The logical condition in `if` can be quite sophisticated and may include several comparisons.\n",
    "* Python understands `or`, like humans do (similarly, `and` is also a built-in language keyword)"
   ]
  },
  {
   "cell_type": "markdown",
   "id": "7e084b09",
   "metadata": {},
   "source": [
    "## Converting letter grade to points\n",
    "\n",
    "Using the conversion table below write a program that takes a letter grade from the user and displays the equivalent number of grade points. It should also generate an error message if the user enters an invalid letter grade."
   ]
  },
  {
   "cell_type": "markdown",
   "id": "fe044f08",
   "metadata": {},
   "source": [
    "<!-- \\centering ![table](images/convertion_table.png){width=.25\\textwidth}\\centering -->\n",
    "<img src=\"./images/convertion_table.png\" width=\"20%\"/>"
   ]
  },
  {
   "cell_type": "code",
   "execution_count": 6,
   "id": "1f0ae014",
   "metadata": {},
   "outputs": [],
   "source": [
    "def grade_converter(grade):\n",
    "    # use branching to determine the outcome\n",
    "    if grade == 'A+'or grade == 'A':\n",
    "        points = 4.0\n",
    "    elif  grade == 'A-':\n",
    "        points = 3.7\n",
    "    elif grade == 'B+':\n",
    "        points = 3.3\n",
    "    elif grade == 'B':\n",
    "        points = 3.0\n",
    "    elif grade == 'B-':\n",
    "        points = 2.7\n",
    "    elif grade == 'C+':\n",
    "        points = 2.3\n",
    "    elif grade == 'C':\n",
    "        points = 2.0\n",
    "    elif grade == 'C-':\n",
    "        points = 1.7\n",
    "    elif grade == 'D+':\n",
    "        points = 1.3\n",
    "    elif grade == 'D':\n",
    "        points = 1.0\n",
    "    elif grade == 'F':\n",
    "        points = 0\n",
    "    # this is executed when all above fails (no grade is determined)  \n",
    "    else :\n",
    "        points = -1\n",
    "        \n",
    "    # check whether the grade was determined   \n",
    "    if points != -1:\n",
    "        message = 'Grade %s equals to %.1f points' %(grade, points)\n",
    "    else:\n",
    "        message = 'Invalid input ' + grade\n",
    "        \n",
    "    print(message)    "
   ]
  },
  {
   "cell_type": "code",
   "execution_count": 7,
   "id": "500b9eaf",
   "metadata": {},
   "outputs": [
    {
     "name": "stdout",
     "output_type": "stream",
     "text": [
      "Grade A+ equals to 4.0 points\n"
     ]
    }
   ],
   "source": [
    "grade_converter('A+')"
   ]
  },
  {
   "cell_type": "code",
   "execution_count": 8,
   "id": "adf966a0",
   "metadata": {},
   "outputs": [
    {
     "name": "stdout",
     "output_type": "stream",
     "text": [
      "Grade C- equals to 1.7 points\n"
     ]
    }
   ],
   "source": [
    "grade_converter('C-')"
   ]
  },
  {
   "cell_type": "code",
   "execution_count": 9,
   "id": "3a9fc4a0",
   "metadata": {},
   "outputs": [
    {
     "name": "stdout",
     "output_type": "stream",
     "text": [
      "Invalid input A++\n"
     ]
    }
   ],
   "source": [
    "grade_converter('A++')"
   ]
  },
  {
   "cell_type": "markdown",
   "id": "2feabe93",
   "metadata": {},
   "source": [
    "### Notes\n",
    "\n",
    "* An `if-elif-else` statement is used to perform exactly one of several alternative actions.\n",
    "* You may include as many `elif` as necessary, followed by an `else` part.\n",
    "* `if` and all `elif` part must include a condition that evaluates to `True` or `False`.\n",
    "* If the `if` part's condition evaluates to `False` then its body is skipped and the condition on the the first `elif` part is evaluated, if it evaluates to `True` then the body of that part is executed, otherwise it skipps to next `elif` or `else` part.\n",
    "* Note how `message` is created, based on `points`."
   ]
  },
  {
   "cell_type": "markdown",
   "id": "0c3bfd14",
   "metadata": {},
   "source": [
    "## Solving quadratic equations\n",
    "\n",
    "A quadratic equation has the form $ax^2 + bx + c = 0$, where $a, b, c$ are constants, and $a$ is not zero.\n",
    "By solving it, we mean finding the roots, that is, identifying all values of $x$ that satisfy the equation. As you may recall from school, these values can be calculated using the <em>quadratic formula</em>:\n",
    "\n",
    "$$\n",
    "root = \\frac{-b\\pm\\sqrt{b^2-4ac}}{2a} \\nonumber\n",
    "$$\n",
    "\n",
    "The expression under the square root is called <em>discriminant</em> and often indicated using Greek letter delta\n",
    "\n",
    "$$\n",
    "\\Delta = b^2 - 4ac \\nonumber\n",
    "$$\n",
    "\n",
    "$\\Delta$ is important because it tells us how many roots/solutions (as real numbers) the equation may have. And so, we may have\n",
    "\n",
    "$$\n",
    "\\Delta < 0, \\text{ no roots,  }\\qquad \\nonumber\n",
    "\\Delta = 0, \\text{ one root,  }\\qquad\n",
    "\\Delta > 0, \\text{ two roots}\n",
    "$$\n",
    "\n",
    "Write a program that computes the real roots of quadratic equation. Make it user friendly, that is, it should display relevant informative messages about the solutions."
   ]
  },
  {
   "cell_type": "code",
   "execution_count": 10,
   "id": "7151ec6e",
   "metadata": {},
   "outputs": [],
   "source": [
    "def quadratic_solver(a,b,c):\n",
    "    # calculate the discriminant\n",
    "    delta = b**2 - 4*a*c\n",
    "    \n",
    "    # use conditional statement to determine the number of roots\n",
    "    # and print out the answer\n",
    "    if delta < 0:\n",
    "        print('There is no solution')\n",
    "        return\n",
    "    elif delta == 0:\n",
    "        root = -b/(2*a)\n",
    "        print('There is one solution: %.1f' %root)\n",
    "    else:\n",
    "        root_1 = (-b-sqrt(delta))/(2*a)\n",
    "        root_2 = (-b+sqrt(delta))/(2*a) \n",
    "        print('There are two solutions: %.1f %.1f' %(root_1, root_2))"
   ]
  },
  {
   "cell_type": "markdown",
   "id": "91293805",
   "metadata": {},
   "source": [
    "Let us solve the equation:\n",
    "\n",
    "$$\n",
    "x^2 + 2x + 3 = 0\n",
    "$$"
   ]
  },
  {
   "cell_type": "code",
   "execution_count": 11,
   "id": "79ada526",
   "metadata": {},
   "outputs": [
    {
     "name": "stdout",
     "output_type": "stream",
     "text": [
      "There is no solution\n"
     ]
    }
   ],
   "source": [
    "from math import sqrt\n",
    "quadratic_solver(1,2,3)"
   ]
  },
  {
   "cell_type": "markdown",
   "id": "95a0d10b",
   "metadata": {},
   "source": [
    "And one more, \n",
    "\n",
    "$$\n",
    "4x^2 + 8x + 3 = 0\n",
    "$$"
   ]
  },
  {
   "cell_type": "code",
   "execution_count": 12,
   "id": "119e225d",
   "metadata": {},
   "outputs": [
    {
     "name": "stdout",
     "output_type": "stream",
     "text": [
      "There are two solutions: -1.5 -0.5\n"
     ]
    }
   ],
   "source": [
    "quadratic_solver(4,8,3)"
   ]
  },
  {
   "cell_type": "markdown",
   "id": "5f53baea",
   "metadata": {},
   "source": [
    "### Notes\n",
    "\n",
    "* To use `sqrt` we need to import it from the `math` library (we could include the `import` statement inside the `quadratic_solver` definition instead).\n",
    "* Observe that since we specifically imported just `sqrt` (not the whole `math` library) we do not need to call it through the library name using the dot syntax like `math.sqrt`.\n",
    "* alternatively, we could use the fractional power `delta**0.5` instead or `sqrt` function."
   ]
  },
  {
   "cell_type": "markdown",
   "id": "3b09fcbb",
   "metadata": {},
   "source": [
    "## Tell me more - potentially boring but very usefull stuff to know - do not skip!"
   ]
  },
  {
   "cell_type": "markdown",
   "id": "7c52b82f",
   "metadata": {},
   "source": [
    "### Boolean logic\n",
    "\n",
    "* A <em>Boolean expression</em> is an expression that evaluates to either `True` or `False` Python keywords.\n",
    "* Conditional statements always include Boolean expressions.\n",
    "* Python provides three Boolean operators: `not`, `and`, and `or`.\n",
    "* Goes without saying that we can combine all of them in a single Boolean expression.\n",
    "* The behaviour/truth values of the simplest Boolean expressions can be demonstrated by using <em>truth tables</em> like the ones below."
   ]
  },
  {
   "cell_type": "markdown",
   "id": "2a934566",
   "metadata": {},
   "source": [
    "<table><tr>\n",
    "<td><img src=\"./images/truth_table_not.png\" width=\"16%\" style = \"width: 200px\"/>\n",
    "<td><img src=\"./images/truth_table_and.png\" width=\"16%\" style = \"width: 200px\"/>\n",
    "<td><img src=\"./images/truth_table_or.png\" width=\"16%\" style = \"width: 200px\"/>\n",
    "</tr></table>"
   ]
  },
  {
   "cell_type": "markdown",
   "id": "07b711e5",
   "metadata": {},
   "source": [
    "## Exercises\n",
    "\n",
    "All exercises below are based on this and previous notebooks material (no need to consult additional sources to complete them) and are intended to reinforce what you have learned so far. It is strongly recommended that you attempt all of them. "
   ]
  },
  {
   "cell_type": "markdown",
   "id": "ba93db4c",
   "metadata": {},
   "source": [
    "### Calculate Body Mass Index (BMI)"
   ]
  },
  {
   "cell_type": "markdown",
   "id": "dda248f3",
   "metadata": {},
   "source": [
    "Write a Python function named `find_BMI` to calculate body mass index and display the grade from the following grades:<BR>\n",
    "    \n",
    ">Underweight:  BMI < 18.5 <br>\n",
    "Normal weight:  18.5 <= BMI < 25.0 <br>\n",
    "Overweight:  25.0 <= BMI < 30.0 <br>\n",
    "Obesity (class 1): 30.0 <= BMI < 35<br>\n",
    "Obesity (class 2): 35.0 <= BMI<br> \n",
    "    \n",
    "Where weight is taken in kilograms and height in meters.\n",
    "BMI is calculated as your weight W (in kilograms) divided by the square of your height H (in metres) or <br>\n",
    "\n",
    "$$\n",
    "    BMI = \\frac{W}{H^2}.\n",
    "$$    \n",
    "    "
   ]
  },
  {
   "cell_type": "markdown",
   "id": "e93bf32a",
   "metadata": {},
   "source": [
    "Output example (note the function arguments)<br> \n",
    "<!-- \\centering ![](./images/ex_2.1.1_out.png){width=0.3\\textwidth}\\centering -->\n",
    "<img align = \"left\" src=\"./images/ex_2.1.1_out.png\" width=\"30%\">"
   ]
  },
  {
   "cell_type": "markdown",
   "id": "97f26a14",
   "metadata": {},
   "source": [
    "### How many days in the month?\n",
    "\n",
    "As we know a month may have as few as 28 days, and as many as 31. Write a function named `days` that takes month name, as a parameter, and prints out the number of days in that month. For February, display \"28 or 29 days\", so that leap year is included."
   ]
  },
  {
   "cell_type": "markdown",
   "id": "7cffc139",
   "metadata": {},
   "source": [
    "Output example (note the function arguments)<br> \n",
    "<!-- \\centering ![](./images/ex_2.1.2_out.png){width=0.2\\textwidth}\\centering -->\n",
    "<img align = \"left\" src=\"./images/ex_2.1.2_out.png\" width=\"25%\">"
   ]
  },
  {
   "cell_type": "markdown",
   "id": "8829ff03",
   "metadata": {},
   "source": [
    "### Is it the snake year, or the dragon one?\n",
    "\n",
    "The Chinese zodiac matches animals with years in a 12 year cycle. One such cycle is shown in the table below.\n",
    "\n",
    "<img src=\"./images/zodiac_china.png\" width=\"14%\"/>\n",
    "\n",
    "The pattern repeats, and so 2012 was again year of the dragon, then 2013 being the year of the snake etc. Write a function that reads the year from the user (or takes it as a parameter, whatever you prefer) and displays the animal associated with that year. What year would be 2050 or 2099?  "
   ]
  },
  {
   "cell_type": "markdown",
   "id": "7857cc8e",
   "metadata": {},
   "source": [
    "Output example (note that the function takes no arguments)<br> \n",
    "<!-- \\centering ![](./images/ex_2.1.3_out.png){width=.3\\textwidth}\\centering -->\n",
    "<img align = \"left\" src=\"./images/ex_2.1.3_out.png\" width=\"25%\">"
   ]
  }
 ],
 "metadata": {
  "celltoolbar": "Raw Cell Format",
  "hide_input": false,
  "kernelspec": {
   "display_name": "Python 3 (ipykernel)",
   "language": "python",
   "name": "python3"
  },
  "language_info": {
   "codemirror_mode": {
    "name": "ipython",
    "version": 3
   },
   "file_extension": ".py",
   "mimetype": "text/x-python",
   "name": "python",
   "nbconvert_exporter": "python",
   "pygments_lexer": "ipython3",
   "version": "3.12.1"
  },
  "latex_envs": {
   "LaTeX_envs_menu_present": true,
   "autoclose": false,
   "autocomplete": true,
   "bibliofile": "biblio.bib",
   "cite_by": "apalike",
   "current_citInitial": 1,
   "eqLabelWithNumbers": false,
   "eqNumInitial": 1,
   "hotkeys": {
    "equation": "Ctrl-E",
    "itemize": "Ctrl-I"
   },
   "labels_anchors": false,
   "latex_user_defs": false,
   "report_style_numbering": false,
   "user_envs_cfg": false
  },
  "toc": {
   "base_numbering": 2,
   "nav_menu": {},
   "number_sections": true,
   "sideBar": true,
   "skip_h1_title": false,
   "title_cell": "Table of Contents",
   "title_sidebar": "Contents",
   "toc_cell": true,
   "toc_position": {},
   "toc_section_display": true,
   "toc_window_display": false
  }
 },
 "nbformat": 4,
 "nbformat_minor": 5
}